{
 "cells": [
  {
   "cell_type": "code",
   "execution_count": 1,
   "id": "75c8d871",
   "metadata": {},
   "outputs": [
    {
     "name": "stderr",
     "output_type": "stream",
     "text": [
      "[nltk_data] Downloading package stopwords to C:\\Users\\Asus\n",
      "[nltk_data]     M16\\AppData\\Roaming\\nltk_data...\n",
      "[nltk_data]   Package stopwords is already up-to-date!\n",
      "[nltk_data] Downloading package wordnet to C:\\Users\\Asus\n",
      "[nltk_data]     M16\\AppData\\Roaming\\nltk_data...\n",
      "[nltk_data]   Package wordnet is already up-to-date!\n"
     ]
    },
    {
     "data": {
      "text/plain": [
       "True"
      ]
     },
     "execution_count": 1,
     "metadata": {},
     "output_type": "execute_result"
    }
   ],
   "source": [
    "import numpy as np\n",
    "import matplotlib.pyplot as plt\n",
    "import pandas as pd\n",
    "import seaborn as sb\n",
    "import string\n",
    "import re\n",
    "import nltk\n",
    "from nltk.corpus import stopwords\n",
    "from nltk.stem.porter import PorterStemmer\n",
    "from nltk.tokenize import word_tokenize\n",
    "from nltk.stem import SnowballStemmer\n",
    "from nltk.stem import WordNetLemmatizer\n",
    "\n",
    "nltk.download('stopwords')\n",
    "nltk.download('wordnet')"
   ]
  },
  {
   "cell_type": "code",
   "execution_count": 2,
   "id": "6b96d7f1",
   "metadata": {},
   "outputs": [],
   "source": [
    "from sklearn.linear_model import LogisticRegression\n",
    "from sklearn.ensemble import RandomForestClassifier\n",
    "from sklearn.naive_bayes import GaussianNB\n",
    "from sklearn.svm import SVC\n",
    "from sklearn.neighbors import KNeighborsClassifier\n",
    "from sklearn.tree import DecisionTreeClassifier\n",
    "from xgboost import XGBClassifier"
   ]
  },
  {
   "cell_type": "markdown",
   "id": "06891dc7",
   "metadata": {},
   "source": [
    "### LogisticRegression:\n",
    "Imports the Logistic Regression classifier from scikit-learn, which is used for binary classification problems.\n",
    "\n",
    "### RandomForestClassifier:\n",
    "Imports the Random Forest classifier from scikit-learn, which is an ensemble learning method that constructs a multitude of decision trees and outputs the mode of the classes.\n",
    "\n",
    "### GaussianNB: \n",
    "Imports the Gaussian Naive Bayes classifier from scikit-learn, which is based on Bayes' theorem with the assumption of independence between features.\n",
    "\n",
    "### SVC: \n",
    "Imports the Support Vector Machine (SVM) classifier from scikit-learn, which is a powerful classification algorithm that finds the hyperplane that best separates classes in a high-dimensional space.\n",
    "\n",
    "### KNeighborsClassifier: \n",
    "Imports the k-Nearest Neighbors (KNN) classifier from scikit-learn, which is a non-parametric method used for classification and regression tasks based on the nearest training data points.\n",
    "\n",
    "### DecisionTreeClassifier: \n",
    "Imports the Decision Tree classifier from scikit-learn, which is a flowchart-like structure where an internal node represents a feature, the branch represents a decision rule, and each leaf node represents an outcome.\n",
    "\n",
    "### XGBClassifier: \n",
    "Imports the XGBoost classifier from the XGBoost library, which is an implementation of gradient boosted decision trees designed for speed and performance."
   ]
  },
  {
   "cell_type": "code",
   "execution_count": 3,
   "id": "c20336ca",
   "metadata": {},
   "outputs": [],
   "source": [
    "from sklearn.feature_extraction.text import TfidfVectorizer, CountVectorizer\n",
    "from sklearn.model_selection import train_test_split\n",
    "from sklearn.pipeline import Pipeline\n",
    "from sklearn.base import TransformerMixin\n",
    "\n",
    "from sklearn.metrics import accuracy_score, recall_score, classification_report, confusion_matrix, fbeta_score, precision_score, roc_curve, roc_auc_score, RocCurveDisplay, PrecisionRecallDisplay, precision_recall_curve\n",
    "from sklearn.metrics import ConfusionMatrixDisplay"
   ]
  },
  {
   "cell_type": "markdown",
   "id": "4ce78e8d",
   "metadata": {},
   "source": [
    "### TfidfVectorizer, CountVectorizer: \n",
    "Imports the TfidfVectorizer and CountVectorizer classes, which are used to convert text data into numerical feature vectors. TfidfVectorizer calculates the TF-IDF (Term Frequency-Inverse Document Frequency) values for the text, while CountVectorizer simply counts the occurrences of each word.\n",
    "\n",
    "### train_test_split: \n",
    "Imports the train_test_split function, which splits datasets into random train and test subsets. This function is commonly used to split data into training and testing sets for model evaluation.\n",
    "\n",
    "### Pipeline: \n",
    "Imports the Pipeline class, which allows chaining together multiple transformers and estimators into a single object. Pipelines are commonly used to automate workflows in machine learning tasks, especially when data preprocessing and model training are involved.\n",
    "\n",
    "### TransformerMixin:\n",
    "Imports the TransformerMixin class, which provides a base class for transformers in scikit-learn. Transformers are objects that transform data, such as converting text data into numerical features. The TransformerMixin class provides useful methods for transformer classes, such as fit_transform.\n",
    "\n",
    "### Import metrics and tools for model evaluation:\n",
    "accuracy_score: Computes the accuracy of the model predictions.\n",
    "recall_score: Computes the recall (sensitivity) of the model predictions.\n",
    "plot_confusion_matrix: Plots a confusion matrix to evaluate classification performance.\n",
    "classification_report: Generates a text report showing the main classification metrics.\n",
    "confusion_matrix: Computes a confusion matrix to evaluate classification performance.\n",
    "fbeta_score: Computes the F-beta score, which is the weighted harmonic mean of precision and recall.\n",
    "precision_score: Computes the precision of the model predictions.\n",
    "roc_curve: Computes the Receiver Operating Characteristic (ROC) curve.\n",
    "roc_auc_score: Computes the Area Under the ROC Curve (ROC AUC) score.\n",
    "RocCurveDisplay: Class for plotting ROC curves.\n",
    "PrecisionRecallDisplay: Class for plotting Precision-Recall curves.\n",
    "precision_recall_curve: Computes precision-recall pairs for different probability thresholds."
   ]
  },
  {
   "cell_type": "code",
   "execution_count": 4,
   "id": "5b0a8db3",
   "metadata": {},
   "outputs": [],
   "source": [
    "import imblearn"
   ]
  },
  {
   "cell_type": "markdown",
   "id": "3e3d53e6",
   "metadata": {},
   "source": [
    "# Data cleaning & prepocessing"
   ]
  },
  {
   "cell_type": "markdown",
   "id": "ff6f0555",
   "metadata": {},
   "source": [
    "### Import data"
   ]
  },
  {
   "cell_type": "code",
   "execution_count": 5,
   "id": "125d4b02",
   "metadata": {},
   "outputs": [],
   "source": [
    "df = pd.read_csv(\"fake_job_postings.csv\", skipinitialspace = True)"
   ]
  },
  {
   "cell_type": "code",
   "execution_count": 6,
   "id": "8de669f2",
   "metadata": {},
   "outputs": [
    {
     "name": "stdout",
     "output_type": "stream",
     "text": [
      "<class 'pandas.core.frame.DataFrame'>\n",
      "RangeIndex: 17880 entries, 0 to 17879\n",
      "Data columns (total 18 columns):\n",
      " #   Column               Non-Null Count  Dtype \n",
      "---  ------               --------------  ----- \n",
      " 0   job_id               17880 non-null  int64 \n",
      " 1   title                17880 non-null  object\n",
      " 2   location             17534 non-null  object\n",
      " 3   department           6327 non-null   object\n",
      " 4   salary_range         2868 non-null   object\n",
      " 5   company_profile      14572 non-null  object\n",
      " 6   description          17879 non-null  object\n",
      " 7   requirements         15184 non-null  object\n",
      " 8   benefits             10668 non-null  object\n",
      " 9   telecommuting        17880 non-null  int64 \n",
      " 10  has_company_logo     17880 non-null  int64 \n",
      " 11  has_questions        17880 non-null  int64 \n",
      " 12  employment_type      14409 non-null  object\n",
      " 13  required_experience  10830 non-null  object\n",
      " 14  required_education   9775 non-null   object\n",
      " 15  industry             12977 non-null  object\n",
      " 16  function             11425 non-null  object\n",
      " 17  fraudulent           17880 non-null  int64 \n",
      "dtypes: int64(5), object(13)\n",
      "memory usage: 2.5+ MB\n"
     ]
    }
   ],
   "source": [
    "df.info()"
   ]
  },
  {
   "cell_type": "code",
   "execution_count": 7,
   "id": "d91ad1ce",
   "metadata": {},
   "outputs": [],
   "source": [
    "df=df.replace(np.nan,\"\")"
   ]
  },
  {
   "cell_type": "code",
   "execution_count": 8,
   "id": "ad0adc2e",
   "metadata": {},
   "outputs": [
    {
     "data": {
      "text/html": [
       "<div>\n",
       "<style scoped>\n",
       "    .dataframe tbody tr th:only-of-type {\n",
       "        vertical-align: middle;\n",
       "    }\n",
       "\n",
       "    .dataframe tbody tr th {\n",
       "        vertical-align: top;\n",
       "    }\n",
       "\n",
       "    .dataframe thead th {\n",
       "        text-align: right;\n",
       "    }\n",
       "</style>\n",
       "<table border=\"1\" class=\"dataframe\">\n",
       "  <thead>\n",
       "    <tr style=\"text-align: right;\">\n",
       "      <th></th>\n",
       "      <th>job_id</th>\n",
       "      <th>title</th>\n",
       "      <th>location</th>\n",
       "      <th>department</th>\n",
       "      <th>salary_range</th>\n",
       "      <th>company_profile</th>\n",
       "      <th>description</th>\n",
       "      <th>requirements</th>\n",
       "      <th>benefits</th>\n",
       "      <th>telecommuting</th>\n",
       "      <th>has_company_logo</th>\n",
       "      <th>has_questions</th>\n",
       "      <th>employment_type</th>\n",
       "      <th>required_experience</th>\n",
       "      <th>required_education</th>\n",
       "      <th>industry</th>\n",
       "      <th>function</th>\n",
       "      <th>fraudulent</th>\n",
       "    </tr>\n",
       "  </thead>\n",
       "  <tbody>\n",
       "    <tr>\n",
       "      <th>0</th>\n",
       "      <td>1</td>\n",
       "      <td>Marketing Intern</td>\n",
       "      <td>US, NY, New York</td>\n",
       "      <td>Marketing</td>\n",
       "      <td></td>\n",
       "      <td>We're Food52, and we've created a groundbreaki...</td>\n",
       "      <td>Food52, a fast-growing, James Beard Award-winn...</td>\n",
       "      <td>Experience with content management systems a m...</td>\n",
       "      <td></td>\n",
       "      <td>0</td>\n",
       "      <td>1</td>\n",
       "      <td>0</td>\n",
       "      <td>Other</td>\n",
       "      <td>Internship</td>\n",
       "      <td></td>\n",
       "      <td></td>\n",
       "      <td>Marketing</td>\n",
       "      <td>0</td>\n",
       "    </tr>\n",
       "    <tr>\n",
       "      <th>1</th>\n",
       "      <td>2</td>\n",
       "      <td>Customer Service - Cloud Video Production</td>\n",
       "      <td>NZ, , Auckland</td>\n",
       "      <td>Success</td>\n",
       "      <td></td>\n",
       "      <td>90 Seconds, the worlds Cloud Video Production ...</td>\n",
       "      <td>Organised - Focused - Vibrant - Awesome!Do you...</td>\n",
       "      <td>What we expect from you:Your key responsibilit...</td>\n",
       "      <td>What you will get from usThrough being part of...</td>\n",
       "      <td>0</td>\n",
       "      <td>1</td>\n",
       "      <td>0</td>\n",
       "      <td>Full-time</td>\n",
       "      <td>Not Applicable</td>\n",
       "      <td></td>\n",
       "      <td>Marketing and Advertising</td>\n",
       "      <td>Customer Service</td>\n",
       "      <td>0</td>\n",
       "    </tr>\n",
       "    <tr>\n",
       "      <th>2</th>\n",
       "      <td>3</td>\n",
       "      <td>Commissioning Machinery Assistant (CMA)</td>\n",
       "      <td>US, IA, Wever</td>\n",
       "      <td></td>\n",
       "      <td></td>\n",
       "      <td>Valor Services provides Workforce Solutions th...</td>\n",
       "      <td>Our client, located in Houston, is actively se...</td>\n",
       "      <td>Implement pre-commissioning and commissioning ...</td>\n",
       "      <td></td>\n",
       "      <td>0</td>\n",
       "      <td>1</td>\n",
       "      <td>0</td>\n",
       "      <td></td>\n",
       "      <td></td>\n",
       "      <td></td>\n",
       "      <td></td>\n",
       "      <td></td>\n",
       "      <td>0</td>\n",
       "    </tr>\n",
       "    <tr>\n",
       "      <th>3</th>\n",
       "      <td>4</td>\n",
       "      <td>Account Executive - Washington DC</td>\n",
       "      <td>US, DC, Washington</td>\n",
       "      <td>Sales</td>\n",
       "      <td></td>\n",
       "      <td>Our passion for improving quality of life thro...</td>\n",
       "      <td>THE COMPANY: ESRI – Environmental Systems Rese...</td>\n",
       "      <td>EDUCATION: Bachelor’s or Master’s in GIS, busi...</td>\n",
       "      <td>Our culture is anything but corporate—we have ...</td>\n",
       "      <td>0</td>\n",
       "      <td>1</td>\n",
       "      <td>0</td>\n",
       "      <td>Full-time</td>\n",
       "      <td>Mid-Senior level</td>\n",
       "      <td>Bachelor's Degree</td>\n",
       "      <td>Computer Software</td>\n",
       "      <td>Sales</td>\n",
       "      <td>0</td>\n",
       "    </tr>\n",
       "    <tr>\n",
       "      <th>4</th>\n",
       "      <td>5</td>\n",
       "      <td>Bill Review Manager</td>\n",
       "      <td>US, FL, Fort Worth</td>\n",
       "      <td></td>\n",
       "      <td></td>\n",
       "      <td>SpotSource Solutions LLC is a Global Human Cap...</td>\n",
       "      <td>JOB TITLE: Itemization Review ManagerLOCATION:...</td>\n",
       "      <td>QUALIFICATIONS:RN license in the State of Texa...</td>\n",
       "      <td>Full Benefits Offered</td>\n",
       "      <td>0</td>\n",
       "      <td>1</td>\n",
       "      <td>1</td>\n",
       "      <td>Full-time</td>\n",
       "      <td>Mid-Senior level</td>\n",
       "      <td>Bachelor's Degree</td>\n",
       "      <td>Hospital &amp; Health Care</td>\n",
       "      <td>Health Care Provider</td>\n",
       "      <td>0</td>\n",
       "    </tr>\n",
       "  </tbody>\n",
       "</table>\n",
       "</div>"
      ],
      "text/plain": [
       "   job_id                                      title            location  \\\n",
       "0       1                           Marketing Intern    US, NY, New York   \n",
       "1       2  Customer Service - Cloud Video Production      NZ, , Auckland   \n",
       "2       3    Commissioning Machinery Assistant (CMA)       US, IA, Wever   \n",
       "3       4          Account Executive - Washington DC  US, DC, Washington   \n",
       "4       5                        Bill Review Manager  US, FL, Fort Worth   \n",
       "\n",
       "  department salary_range                                    company_profile  \\\n",
       "0  Marketing               We're Food52, and we've created a groundbreaki...   \n",
       "1    Success               90 Seconds, the worlds Cloud Video Production ...   \n",
       "2                          Valor Services provides Workforce Solutions th...   \n",
       "3      Sales               Our passion for improving quality of life thro...   \n",
       "4                          SpotSource Solutions LLC is a Global Human Cap...   \n",
       "\n",
       "                                         description  \\\n",
       "0  Food52, a fast-growing, James Beard Award-winn...   \n",
       "1  Organised - Focused - Vibrant - Awesome!Do you...   \n",
       "2  Our client, located in Houston, is actively se...   \n",
       "3  THE COMPANY: ESRI – Environmental Systems Rese...   \n",
       "4  JOB TITLE: Itemization Review ManagerLOCATION:...   \n",
       "\n",
       "                                        requirements  \\\n",
       "0  Experience with content management systems a m...   \n",
       "1  What we expect from you:Your key responsibilit...   \n",
       "2  Implement pre-commissioning and commissioning ...   \n",
       "3  EDUCATION: Bachelor’s or Master’s in GIS, busi...   \n",
       "4  QUALIFICATIONS:RN license in the State of Texa...   \n",
       "\n",
       "                                            benefits  telecommuting  \\\n",
       "0                                                                 0   \n",
       "1  What you will get from usThrough being part of...              0   \n",
       "2                                                                 0   \n",
       "3  Our culture is anything but corporate—we have ...              0   \n",
       "4                              Full Benefits Offered              0   \n",
       "\n",
       "   has_company_logo  has_questions employment_type required_experience  \\\n",
       "0                 1              0           Other          Internship   \n",
       "1                 1              0       Full-time      Not Applicable   \n",
       "2                 1              0                                       \n",
       "3                 1              0       Full-time    Mid-Senior level   \n",
       "4                 1              1       Full-time    Mid-Senior level   \n",
       "\n",
       "  required_education                   industry              function  \\\n",
       "0                                                           Marketing   \n",
       "1                     Marketing and Advertising      Customer Service   \n",
       "2                                                                       \n",
       "3  Bachelor's Degree          Computer Software                 Sales   \n",
       "4  Bachelor's Degree     Hospital & Health Care  Health Care Provider   \n",
       "\n",
       "   fraudulent  \n",
       "0           0  \n",
       "1           0  \n",
       "2           0  \n",
       "3           0  \n",
       "4           0  "
      ]
     },
     "execution_count": 8,
     "metadata": {},
     "output_type": "execute_result"
    }
   ],
   "source": [
    "df.head()"
   ]
  },
  {
   "cell_type": "markdown",
   "id": "6becce14",
   "metadata": {},
   "source": [
    "### Remove unneccesary columns"
   ]
  },
  {
   "cell_type": "code",
   "execution_count": 9,
   "id": "734c19b3",
   "metadata": {},
   "outputs": [],
   "source": [
    "columns=['job_id', 'telecommuting', 'has_questions', 'salary_range']\n",
    "for col in columns:\n",
    "    del df[col]"
   ]
  },
  {
   "cell_type": "markdown",
   "id": "9c38510e",
   "metadata": {},
   "source": [
    "### Format company logo column"
   ]
  },
  {
   "cell_type": "markdown",
   "id": "b4f68043",
   "metadata": {},
   "source": [
    "From Exploratory Data Analysis, we realize that this column may be an important indicator of fake/real job ads. Hence, we change it to text and combine it with other text columns."
   ]
  },
  {
   "cell_type": "code",
   "execution_count": 10,
   "id": "a53aea53",
   "metadata": {},
   "outputs": [],
   "source": [
    "df['has_company_logo'] = df['has_company_logo'].replace({1:'company logo: yes', 0: 'company logo: no'})"
   ]
  },
  {
   "cell_type": "markdown",
   "id": "771b2962",
   "metadata": {},
   "source": [
    "### Combine text in a single column named text"
   ]
  },
  {
   "cell_type": "code",
   "execution_count": 11,
   "id": "13529ec0",
   "metadata": {},
   "outputs": [],
   "source": [
    "text_data=df.select_dtypes(include=\"object\")\n",
    "text_data.drop([\"location\"],axis=1,inplace=True)\n",
    "text_col=text_data.columns\n",
    "df[text_col]=df[text_col].replace(np.nan,\"\")"
   ]
  },
  {
   "cell_type": "code",
   "execution_count": 12,
   "id": "4366e4fb",
   "metadata": {},
   "outputs": [],
   "source": [
    "df['text'] = \"\"\n",
    "for col in text_data.columns:\n",
    "    df[\"text\"]=df[\"text\"]+\" \"+df[col]"
   ]
  },
  {
   "cell_type": "markdown",
   "id": "6c274d5f",
   "metadata": {},
   "source": [
    "### Drop columns"
   ]
  },
  {
   "cell_type": "code",
   "execution_count": 13,
   "id": "12b1d766",
   "metadata": {},
   "outputs": [],
   "source": [
    "columns=['title', 'location','department', 'company_profile', 'employment_type','description', 'requirements', 'benefits','industry', 'function', 'has_company_logo', 'required_experience', 'required_education']\n",
    "for col in columns:\n",
    "    del df[col]"
   ]
  },
  {
   "cell_type": "code",
   "execution_count": 14,
   "id": "5ce3297d",
   "metadata": {
    "scrolled": true
   },
   "outputs": [
    {
     "data": {
      "text/html": [
       "<div>\n",
       "<style scoped>\n",
       "    .dataframe tbody tr th:only-of-type {\n",
       "        vertical-align: middle;\n",
       "    }\n",
       "\n",
       "    .dataframe tbody tr th {\n",
       "        vertical-align: top;\n",
       "    }\n",
       "\n",
       "    .dataframe thead th {\n",
       "        text-align: right;\n",
       "    }\n",
       "</style>\n",
       "<table border=\"1\" class=\"dataframe\">\n",
       "  <thead>\n",
       "    <tr style=\"text-align: right;\">\n",
       "      <th></th>\n",
       "      <th>fraudulent</th>\n",
       "      <th>text</th>\n",
       "    </tr>\n",
       "  </thead>\n",
       "  <tbody>\n",
       "    <tr>\n",
       "      <th>0</th>\n",
       "      <td>0</td>\n",
       "      <td>Marketing Intern Marketing We're Food52, and ...</td>\n",
       "    </tr>\n",
       "    <tr>\n",
       "      <th>1</th>\n",
       "      <td>0</td>\n",
       "      <td>Customer Service - Cloud Video Production Suc...</td>\n",
       "    </tr>\n",
       "    <tr>\n",
       "      <th>2</th>\n",
       "      <td>0</td>\n",
       "      <td>Commissioning Machinery Assistant (CMA)  Valo...</td>\n",
       "    </tr>\n",
       "    <tr>\n",
       "      <th>3</th>\n",
       "      <td>0</td>\n",
       "      <td>Account Executive - Washington DC Sales Our p...</td>\n",
       "    </tr>\n",
       "    <tr>\n",
       "      <th>4</th>\n",
       "      <td>0</td>\n",
       "      <td>Bill Review Manager  SpotSource Solutions LLC...</td>\n",
       "    </tr>\n",
       "  </tbody>\n",
       "</table>\n",
       "</div>"
      ],
      "text/plain": [
       "   fraudulent                                               text\n",
       "0           0   Marketing Intern Marketing We're Food52, and ...\n",
       "1           0   Customer Service - Cloud Video Production Suc...\n",
       "2           0   Commissioning Machinery Assistant (CMA)  Valo...\n",
       "3           0   Account Executive - Washington DC Sales Our p...\n",
       "4           0   Bill Review Manager  SpotSource Solutions LLC..."
      ]
     },
     "execution_count": 14,
     "metadata": {},
     "output_type": "execute_result"
    }
   ],
   "source": [
    "df.head()"
   ]
  },
  {
   "cell_type": "code",
   "execution_count": 15,
   "id": "7ab3f141",
   "metadata": {},
   "outputs": [
    {
     "data": {
      "text/plain": [
       "\" Marketing Intern Marketing We're Food52, and we've created a groundbreaking and award-winning cooking site. We support, connect, and celebrate home cooks, and give them everything they need in one place.We have a top editorial, business, and engineering team. We're focused on using technology to find new and better ways to connect people around their specific food interests, and to offer them superb, highly curated information about food and cooking. We attract the most talented home cooks and contributors in the country; we also publish well-known professionals like Mario Batali, Gwyneth Paltrow, and Danny Meyer. And we have partnerships with Whole Foods Market and Random House.Food52 has been named the best food website by the James Beard Foundation and IACP, and has been featured in the New York Times, NPR, Pando Daily, TechCrunch, and on the Today Show.We're located in Chelsea, in New York City. Food52, a fast-growing, James Beard Award-winning online food community and crowd-sourced and curated recipe hub, is currently interviewing full- and part-time unpaid interns to work in a small team of editors, executives, and developers in its New York City headquarters.Reproducing and/or repackaging existing Food52 content for a number of partner sites, such as Huffington Post, Yahoo, Buzzfeed, and more in their various content management systemsResearching blogs and websites for the Provisions by Food52 Affiliate ProgramAssisting in day-to-day affiliate program support, such as screening affiliates and assisting in any affiliate inquiriesSupporting with PR &amp; Events when neededHelping with office administrative work, such as filing, mailing, and preparing for meetingsWorking with developers to document bugs and suggest improvements to the siteSupporting the marketing and executive staff Experience with content management systems a major plus (any blogging counts!)Familiar with the Food52 editorial voice and aestheticLoves food, appreciates the importance of home cooking and cooking with the seasonsMeticulous editor, perfectionist, obsessive attention to detail, maddened by typos and broken links, delighted by finding and fixing themCheerful under pressureExcellent communication skillsA+ multi-tasker and juggler of responsibilities big and smallInterested in and engaged with social media like Twitter, Facebook, and PinterestLoves problem-solving and collaborating to drive Food52 forwardThinks big picture but pitches in on the nitty gritty of running a small company (dishes, shopping, administrative support)Comfortable with the realities of working for a startup: being on call on evenings and weekends, and working long hours  company logo: yes Other Internship   Marketing\""
      ]
     },
     "execution_count": 15,
     "metadata": {},
     "output_type": "execute_result"
    }
   ],
   "source": [
    "df['text'][0] #check the cleaned text of the first row"
   ]
  },
  {
   "cell_type": "code",
   "execution_count": 16,
   "id": "4107eb35",
   "metadata": {},
   "outputs": [],
   "source": [
    "# Target Selection\n",
    "x_sample = df['text']\n",
    "y_sample = df['fraudulent']\n",
    "#split\n",
    "X_train, X_test, y_train, y_test = train_test_split(\n",
    "    x_sample, y_sample,\n",
    "    test_size=0.3,\n",
    "    stratify=y_sample,\n",
    "    random_state=42\n",
    ")"
   ]
  },
  {
   "cell_type": "code",
   "execution_count": 17,
   "id": "e03db61b",
   "metadata": {},
   "outputs": [],
   "source": [
    "X_train.to_csv(\"copyXtrain.csv\", index = False) #save a copy of X_train for later use (Vectorizer in the streamlit app)"
   ]
  },
  {
   "cell_type": "code",
   "execution_count": 18,
   "id": "ce19cf0e",
   "metadata": {},
   "outputs": [],
   "source": [
    "# Apply vectorizer\n",
    "tfidf = TfidfVectorizer(ngram_range=(1,2))\n",
    "tfidf.fit(X_train)\n",
    "X_train =  tfidf.transform(X_train)\n",
    "X_test= tfidf.transform(X_test)"
   ]
  },
  {
   "cell_type": "code",
   "execution_count": 19,
   "id": "33c5a060",
   "metadata": {},
   "outputs": [],
   "source": [
    "# make a copy of imbalanced X_train, X_test\n",
    "X_train_imbalanced =  X_train\n",
    "X_test_imbalanced = X_test\n",
    "y_train_imbalanced = y_train\n",
    "y_test_imbalanced = y_test"
   ]
  },
  {
   "cell_type": "code",
   "execution_count": 20,
   "id": "9368b824",
   "metadata": {},
   "outputs": [
    {
     "data": {
      "text/plain": [
       "(12516, 796882)"
      ]
     },
     "execution_count": 20,
     "metadata": {},
     "output_type": "execute_result"
    }
   ],
   "source": [
    "X_train.shape"
   ]
  },
  {
   "cell_type": "code",
   "execution_count": 21,
   "id": "d1eb637f",
   "metadata": {},
   "outputs": [
    {
     "data": {
      "text/plain": [
       "scipy.sparse._csr.csr_matrix"
      ]
     },
     "execution_count": 21,
     "metadata": {},
     "output_type": "execute_result"
    }
   ],
   "source": [
    "type(X_train)"
   ]
  },
  {
   "cell_type": "markdown",
   "id": "a8c9115e",
   "metadata": {},
   "source": [
    "# Handle imbalanced dataset: Oversampling & Undersampling"
   ]
  },
  {
   "cell_type": "code",
   "execution_count": 22,
   "id": "331e743c",
   "metadata": {},
   "outputs": [],
   "source": [
    "from collections import Counter\n",
    "from imblearn.combine import SMOTETomek #Oversampling\n",
    "from imblearn.under_sampling import TomekLinks #Undersampling"
   ]
  },
  {
   "cell_type": "code",
   "execution_count": 23,
   "id": "767a2481",
   "metadata": {},
   "outputs": [
    {
     "name": "stdout",
     "output_type": "stream",
     "text": [
      "Counter({0: 11910, 1: 606})\n"
     ]
    }
   ],
   "source": [
    "print(Counter(y_train))"
   ]
  },
  {
   "cell_type": "markdown",
   "id": "83868f03",
   "metadata": {},
   "source": [
    "In the train set, there are 11910 real and 606 fake job ads --> highly imbalanced"
   ]
  },
  {
   "cell_type": "markdown",
   "id": "84a90e2f",
   "metadata": {},
   "source": [
    "from imblearn.under_sampling import RandomUnderSampler\n",
    "undersampler = RandomUnderSampler(sampling_strategy='majority')\n",
    "X_resampled, y_resampled = undersampler.fit_resample(X_train, y_train)\n",
    "\n",
    "print(\"Before Undersampling:\", Counter(y_train))\n",
    "print(\"After Undersampling:\", Counter(y_resampled))"
   ]
  },
  {
   "cell_type": "markdown",
   "id": "eae28470",
   "metadata": {},
   "source": [
    "Undersampling: You can randomly undersample the majority class (real job ads) to balance the dataset. For example, you can randomly select 606 instances from the real job ads to match the number of instances in the minority class (fake job ads)."
   ]
  },
  {
   "cell_type": "markdown",
   "id": "113706fd",
   "metadata": {},
   "source": [
    "from imblearn.over_sampling import SMOTE\n",
    "smote = SMOTE(sampling_strategy='auto')\n",
    "X_resampled, y_resampled = smote.fit_resample(X_train, y_train)\n",
    "\n",
    "print(\"Before Oversampling:\", Counter(y_train))\n",
    "print(\"After Oversampling:\", Counter(y_train))"
   ]
  },
  {
   "cell_type": "markdown",
   "id": "eabe1d47",
   "metadata": {},
   "source": [
    "Oversampling: You can use techniques like SMOTE or SMOTETomek to generate synthetic samples for the minority class. This will increase the number of instances in the minority class to match the majority class.m"
   ]
  },
  {
   "cell_type": "code",
   "execution_count": 24,
   "id": "2facc3c8",
   "metadata": {},
   "outputs": [
    {
     "name": "stdout",
     "output_type": "stream",
     "text": [
      "Before Oversampling: Counter({0: 11910, 1: 606})\n",
      "After Oversampling: Counter({0: 11910, 1: 11910})\n"
     ]
    }
   ],
   "source": [
    "from imblearn.over_sampling import SMOTE\n",
    "smote = SMOTE(sampling_strategy='auto')\n",
    "X_resampled, y_resampled = smote.fit_resample(X_train, y_train)\n",
    "\n",
    "print(\"Before Oversampling:\", Counter(y_train))\n",
    "print(\"After Oversampling:\", Counter(y_resampled))"
   ]
  },
  {
   "cell_type": "markdown",
   "id": "38559431",
   "metadata": {},
   "source": [
    "Combined Sampling: As mentioned earlier, you can also use a combination of oversampling and undersampling techniques like SMOTETomek to balance the dataset."
   ]
  },
  {
   "cell_type": "markdown",
   "id": "a41be5b2",
   "metadata": {},
   "source": [
    "#Assuming X_train and y_train are your features and labels for training\n",
    "#Counter before applying any resampling\n",
    "print(\"Before resampling:\", Counter(y_train))\n",
    "\n",
    "#Apply SMOTETomek\n",
    "smote_tomek = SMOTETomek(sampling_strategy='auto')\n",
    "X_resampled, y_resampled = smote_tomek.fit_resample(X_train, y_train)\n",
    "\n",
    "#Counter after applying SMOTETomek\n",
    "print(\"After SMOTETomek:\", Counter(y_resampled))\n",
    "\n",
    "#Apply TomekLinks\n",
    "tomek_links = TomekLinks()\n",
    "X_resampled, y_resampled = tomek_links.fit_resample(X_train, y_train)\n",
    "\n",
    "#Counter after applying TomekLinks\n",
    "print(\"After TomekLinks:\", Counter(y_resampled))"
   ]
  },
  {
   "cell_type": "markdown",
   "id": "8e20b1a5",
   "metadata": {},
   "source": [
    "#define resampling\n",
    "resample = SMOTETomek(tomek=TomekLinks(sampling_strategy='majority'))"
   ]
  },
  {
   "cell_type": "markdown",
   "id": "f8abfaa3",
   "metadata": {},
   "source": [
    "#fit and apply the transform\n",
    "X_train, y_train = resample.fit_resample(X_train, y_train)"
   ]
  },
  {
   "cell_type": "markdown",
   "id": "35580bc5",
   "metadata": {},
   "source": [
    "This step may take awhile to run"
   ]
  },
  {
   "cell_type": "markdown",
   "id": "b57662b4",
   "metadata": {},
   "source": [
    "print(Counter(y_train))"
   ]
  },
  {
   "cell_type": "markdown",
   "id": "91449e2e",
   "metadata": {},
   "source": [
    "Now, the train set is balanced"
   ]
  },
  {
   "cell_type": "markdown",
   "id": "bcbb0c83",
   "metadata": {},
   "source": [
    "# Classification Model"
   ]
  },
  {
   "cell_type": "markdown",
   "id": "96587fe9",
   "metadata": {},
   "source": [
    "## 1. Logistic Regression"
   ]
  },
  {
   "cell_type": "code",
   "execution_count": 25,
   "id": "a84c027c",
   "metadata": {},
   "outputs": [
    {
     "data": {
      "text/html": [
       "<style>#sk-container-id-1 {color: black;background-color: white;}#sk-container-id-1 pre{padding: 0;}#sk-container-id-1 div.sk-toggleable {background-color: white;}#sk-container-id-1 label.sk-toggleable__label {cursor: pointer;display: block;width: 100%;margin-bottom: 0;padding: 0.3em;box-sizing: border-box;text-align: center;}#sk-container-id-1 label.sk-toggleable__label-arrow:before {content: \"▸\";float: left;margin-right: 0.25em;color: #696969;}#sk-container-id-1 label.sk-toggleable__label-arrow:hover:before {color: black;}#sk-container-id-1 div.sk-estimator:hover label.sk-toggleable__label-arrow:before {color: black;}#sk-container-id-1 div.sk-toggleable__content {max-height: 0;max-width: 0;overflow: hidden;text-align: left;background-color: #f0f8ff;}#sk-container-id-1 div.sk-toggleable__content pre {margin: 0.2em;color: black;border-radius: 0.25em;background-color: #f0f8ff;}#sk-container-id-1 input.sk-toggleable__control:checked~div.sk-toggleable__content {max-height: 200px;max-width: 100%;overflow: auto;}#sk-container-id-1 input.sk-toggleable__control:checked~label.sk-toggleable__label-arrow:before {content: \"▾\";}#sk-container-id-1 div.sk-estimator input.sk-toggleable__control:checked~label.sk-toggleable__label {background-color: #d4ebff;}#sk-container-id-1 div.sk-label input.sk-toggleable__control:checked~label.sk-toggleable__label {background-color: #d4ebff;}#sk-container-id-1 input.sk-hidden--visually {border: 0;clip: rect(1px 1px 1px 1px);clip: rect(1px, 1px, 1px, 1px);height: 1px;margin: -1px;overflow: hidden;padding: 0;position: absolute;width: 1px;}#sk-container-id-1 div.sk-estimator {font-family: monospace;background-color: #f0f8ff;border: 1px dotted black;border-radius: 0.25em;box-sizing: border-box;margin-bottom: 0.5em;}#sk-container-id-1 div.sk-estimator:hover {background-color: #d4ebff;}#sk-container-id-1 div.sk-parallel-item::after {content: \"\";width: 100%;border-bottom: 1px solid gray;flex-grow: 1;}#sk-container-id-1 div.sk-label:hover label.sk-toggleable__label {background-color: #d4ebff;}#sk-container-id-1 div.sk-serial::before {content: \"\";position: absolute;border-left: 1px solid gray;box-sizing: border-box;top: 0;bottom: 0;left: 50%;z-index: 0;}#sk-container-id-1 div.sk-serial {display: flex;flex-direction: column;align-items: center;background-color: white;padding-right: 0.2em;padding-left: 0.2em;position: relative;}#sk-container-id-1 div.sk-item {position: relative;z-index: 1;}#sk-container-id-1 div.sk-parallel {display: flex;align-items: stretch;justify-content: center;background-color: white;position: relative;}#sk-container-id-1 div.sk-item::before, #sk-container-id-1 div.sk-parallel-item::before {content: \"\";position: absolute;border-left: 1px solid gray;box-sizing: border-box;top: 0;bottom: 0;left: 50%;z-index: -1;}#sk-container-id-1 div.sk-parallel-item {display: flex;flex-direction: column;z-index: 1;position: relative;background-color: white;}#sk-container-id-1 div.sk-parallel-item:first-child::after {align-self: flex-end;width: 50%;}#sk-container-id-1 div.sk-parallel-item:last-child::after {align-self: flex-start;width: 50%;}#sk-container-id-1 div.sk-parallel-item:only-child::after {width: 0;}#sk-container-id-1 div.sk-dashed-wrapped {border: 1px dashed gray;margin: 0 0.4em 0.5em 0.4em;box-sizing: border-box;padding-bottom: 0.4em;background-color: white;}#sk-container-id-1 div.sk-label label {font-family: monospace;font-weight: bold;display: inline-block;line-height: 1.2em;}#sk-container-id-1 div.sk-label-container {text-align: center;}#sk-container-id-1 div.sk-container {/* jupyter's `normalize.less` sets `[hidden] { display: none; }` but bootstrap.min.css set `[hidden] { display: none !important; }` so we also need the `!important` here to be able to override the default hidden behavior on the sphinx rendered scikit-learn.org. See: https://github.com/scikit-learn/scikit-learn/issues/21755 */display: inline-block !important;position: relative;}#sk-container-id-1 div.sk-text-repr-fallback {display: none;}</style><div id=\"sk-container-id-1\" class=\"sk-top-container\"><div class=\"sk-text-repr-fallback\"><pre>LogisticRegression(random_state=42)</pre><b>In a Jupyter environment, please rerun this cell to show the HTML representation or trust the notebook. <br />On GitHub, the HTML representation is unable to render, please try loading this page with nbviewer.org.</b></div><div class=\"sk-container\" hidden><div class=\"sk-item\"><div class=\"sk-estimator sk-toggleable\"><input class=\"sk-toggleable__control sk-hidden--visually\" id=\"sk-estimator-id-1\" type=\"checkbox\" checked><label for=\"sk-estimator-id-1\" class=\"sk-toggleable__label sk-toggleable__label-arrow\">LogisticRegression</label><div class=\"sk-toggleable__content\"><pre>LogisticRegression(random_state=42)</pre></div></div></div></div></div>"
      ],
      "text/plain": [
       "LogisticRegression(random_state=42)"
      ]
     },
     "execution_count": 25,
     "metadata": {},
     "output_type": "execute_result"
    }
   ],
   "source": [
    "logreg = LogisticRegression(random_state = 42)\n",
    "logreg.fit(X_train, y_train)"
   ]
  },
  {
   "cell_type": "markdown",
   "id": "9683ae97",
   "metadata": {},
   "source": [
    "#### Predict on train set"
   ]
  },
  {
   "cell_type": "code",
   "execution_count": 26,
   "id": "562f848e",
   "metadata": {},
   "outputs": [],
   "source": [
    "y_train_logreg_pred = logreg.predict(X_train)"
   ]
  },
  {
   "cell_type": "code",
   "execution_count": 27,
   "id": "c1e5cfa2",
   "metadata": {},
   "outputs": [
    {
     "data": {
      "text/plain": [
       "<Axes: >"
      ]
     },
     "execution_count": 27,
     "metadata": {},
     "output_type": "execute_result"
    },
    {
     "data": {
      "image/png": "[encoded data removed]",
      "text/plain": [
       "<Figure size 640x480 with 2 Axes>"
      ]
     },
     "metadata": {},
     "output_type": "display_data"
    }
   ],
   "source": [
    "sb.heatmap(confusion_matrix(y_train, y_train_logreg_pred), annot = True, fmt=\"d\")"
   ]
  },
  {
   "cell_type": "code",
   "execution_count": 28,
   "id": "5f54390d",
   "metadata": {},
   "outputs": [
    {
     "name": "stdout",
     "output_type": "stream",
     "text": [
      "Logistic Regression Accuracy: 0.9697187599872163\n",
      "Logistic Regression Recall: 0.37458745874587457\n",
      "Logistic Regression Precision: 1.0\n",
      "Logistic Regression F2 score: 0.4281403244058846\n",
      "Logistic Regression ROC AUC Score 0.6872937293729373\n"
     ]
    }
   ],
   "source": [
    "# Evaluation of model's performance on train set\n",
    "print(\"Logistic Regression Accuracy:\", accuracy_score(y_train, y_train_logreg_pred))\n",
    "print(\"Logistic Regression Recall:\", recall_score(y_train, y_train_logreg_pred))\n",
    "print(\"Logistic Regression Precision:\", precision_score(y_train, y_train_logreg_pred))\n",
    "print(\"Logistic Regression F2 score:\", fbeta_score(y_train, y_train_logreg_pred, average='binary', beta=2))\n",
    "print('Logistic Regression ROC AUC Score', roc_auc_score(y_train, y_train_logreg_pred))"
   ]
  },
  {
   "cell_type": "markdown",
   "id": "a39619ca",
   "metadata": {},
   "source": [
    "#### Predict on test set"
   ]
  },
  {
   "cell_type": "code",
   "execution_count": 29,
   "id": "f6b11889",
   "metadata": {},
   "outputs": [],
   "source": [
    "y_test_logreg_pred = logreg.predict(X_test)"
   ]
  },
  {
   "cell_type": "code",
   "execution_count": 30,
   "id": "1ae448f5",
   "metadata": {},
   "outputs": [
    {
     "data": {
      "text/plain": [
       "<Axes: >"
      ]
     },
     "execution_count": 30,
     "metadata": {},
     "output_type": "execute_result"
    },
    {
     "data": {
      "image/png": "[encoded data removed]",
      "text/plain": [
       "<Figure size 640x480 with 2 Axes>"
      ]
     },
     "metadata": {},
     "output_type": "display_data"
    }
   ],
   "source": [
    "sb.heatmap(confusion_matrix(y_test, y_test_logreg_pred), annot = True, fmt=\"d\")"
   ]
  },
  {
   "cell_type": "code",
   "execution_count": 31,
   "id": "1c0ece34",
   "metadata": {},
   "outputs": [
    {
     "name": "stdout",
     "output_type": "stream",
     "text": [
      "Logistic Regression Accuracy: 0.9690529455630127\n",
      "Logistic Regression Recall: 0.36153846153846153\n",
      "Logistic Regression Precision: 1.0\n",
      "Logistic Regression F2 score: 0.41446208112874783\n",
      "Logistic Regression ROC AUC Score 0.6807692307692308\n"
     ]
    }
   ],
   "source": [
    "# Evaluation of model's performance on test set\n",
    "print(\"Logistic Regression Accuracy:\", accuracy_score(y_test, y_test_logreg_pred))\n",
    "print(\"Logistic Regression Recall:\", recall_score(y_test, y_test_logreg_pred))\n",
    "print(\"Logistic Regression Precision:\", precision_score(y_test, y_test_logreg_pred))\n",
    "print(\"Logistic Regression F2 score:\", fbeta_score(y_test, y_test_logreg_pred, average='binary', beta=2))\n",
    "print('Logistic Regression ROC AUC Score', roc_auc_score(y_test, y_test_logreg_pred))"
   ]
  },
  {
   "cell_type": "code",
   "execution_count": 32,
   "id": "e846d561",
   "metadata": {},
   "outputs": [
    {
     "name": "stdout",
     "output_type": "stream",
     "text": [
      "Logistic Regression F1 score: 0.5310734463276836\n"
     ]
    }
   ],
   "source": [
    "print(\"Logistic Regression F1 score:\", fbeta_score(y_test, y_test_logreg_pred, average='binary', beta=1))"
   ]
  },
  {
   "cell_type": "markdown",
   "id": "72ea62eb",
   "metadata": {},
   "source": [
    "## 2. Random Forest"
   ]
  },
  {
   "cell_type": "code",
   "execution_count": 33,
   "id": "c5f01e40",
   "metadata": {},
   "outputs": [
    {
     "data": {
      "text/html": [
       "<style>#sk-container-id-2 {color: black;background-color: white;}#sk-container-id-2 pre{padding: 0;}#sk-container-id-2 div.sk-toggleable {background-color: white;}#sk-container-id-2 label.sk-toggleable__label {cursor: pointer;display: block;width: 100%;margin-bottom: 0;padding: 0.3em;box-sizing: border-box;text-align: center;}#sk-container-id-2 label.sk-toggleable__label-arrow:before {content: \"▸\";float: left;margin-right: 0.25em;color: #696969;}#sk-container-id-2 label.sk-toggleable__label-arrow:hover:before {color: black;}#sk-container-id-2 div.sk-estimator:hover label.sk-toggleable__label-arrow:before {color: black;}#sk-container-id-2 div.sk-toggleable__content {max-height: 0;max-width: 0;overflow: hidden;text-align: left;background-color: #f0f8ff;}#sk-container-id-2 div.sk-toggleable__content pre {margin: 0.2em;color: black;border-radius: 0.25em;background-color: #f0f8ff;}#sk-container-id-2 input.sk-toggleable__control:checked~div.sk-toggleable__content {max-height: 200px;max-width: 100%;overflow: auto;}#sk-container-id-2 input.sk-toggleable__control:checked~label.sk-toggleable__label-arrow:before {content: \"▾\";}#sk-container-id-2 div.sk-estimator input.sk-toggleable__control:checked~label.sk-toggleable__label {background-color: #d4ebff;}#sk-container-id-2 div.sk-label input.sk-toggleable__control:checked~label.sk-toggleable__label {background-color: #d4ebff;}#sk-container-id-2 input.sk-hidden--visually {border: 0;clip: rect(1px 1px 1px 1px);clip: rect(1px, 1px, 1px, 1px);height: 1px;margin: -1px;overflow: hidden;padding: 0;position: absolute;width: 1px;}#sk-container-id-2 div.sk-estimator {font-family: monospace;background-color: #f0f8ff;border: 1px dotted black;border-radius: 0.25em;box-sizing: border-box;margin-bottom: 0.5em;}#sk-container-id-2 div.sk-estimator:hover {background-color: #d4ebff;}#sk-container-id-2 div.sk-parallel-item::after {content: \"\";width: 100%;border-bottom: 1px solid gray;flex-grow: 1;}#sk-container-id-2 div.sk-label:hover label.sk-toggleable__label {background-color: #d4ebff;}#sk-container-id-2 div.sk-serial::before {content: \"\";position: absolute;border-left: 1px solid gray;box-sizing: border-box;top: 0;bottom: 0;left: 50%;z-index: 0;}#sk-container-id-2 div.sk-serial {display: flex;flex-direction: column;align-items: center;background-color: white;padding-right: 0.2em;padding-left: 0.2em;position: relative;}#sk-container-id-2 div.sk-item {position: relative;z-index: 1;}#sk-container-id-2 div.sk-parallel {display: flex;align-items: stretch;justify-content: center;background-color: white;position: relative;}#sk-container-id-2 div.sk-item::before, #sk-container-id-2 div.sk-parallel-item::before {content: \"\";position: absolute;border-left: 1px solid gray;box-sizing: border-box;top: 0;bottom: 0;left: 50%;z-index: -1;}#sk-container-id-2 div.sk-parallel-item {display: flex;flex-direction: column;z-index: 1;position: relative;background-color: white;}#sk-container-id-2 div.sk-parallel-item:first-child::after {align-self: flex-end;width: 50%;}#sk-container-id-2 div.sk-parallel-item:last-child::after {align-self: flex-start;width: 50%;}#sk-container-id-2 div.sk-parallel-item:only-child::after {width: 0;}#sk-container-id-2 div.sk-dashed-wrapped {border: 1px dashed gray;margin: 0 0.4em 0.5em 0.4em;box-sizing: border-box;padding-bottom: 0.4em;background-color: white;}#sk-container-id-2 div.sk-label label {font-family: monospace;font-weight: bold;display: inline-block;line-height: 1.2em;}#sk-container-id-2 div.sk-label-container {text-align: center;}#sk-container-id-2 div.sk-container {/* jupyter's `normalize.less` sets `[hidden] { display: none; }` but bootstrap.min.css set `[hidden] { display: none !important; }` so we also need the `!important` here to be able to override the default hidden behavior on the sphinx rendered scikit-learn.org. See: https://github.com/scikit-learn/scikit-learn/issues/21755 */display: inline-block !important;position: relative;}#sk-container-id-2 div.sk-text-repr-fallback {display: none;}</style><div id=\"sk-container-id-2\" class=\"sk-top-container\"><div class=\"sk-text-repr-fallback\"><pre>RandomForestClassifier()</pre><b>In a Jupyter environment, please rerun this cell to show the HTML representation or trust the notebook. <br />On GitHub, the HTML representation is unable to render, please try loading this page with nbviewer.org.</b></div><div class=\"sk-container\" hidden><div class=\"sk-item\"><div class=\"sk-estimator sk-toggleable\"><input class=\"sk-toggleable__control sk-hidden--visually\" id=\"sk-estimator-id-2\" type=\"checkbox\" checked><label for=\"sk-estimator-id-2\" class=\"sk-toggleable__label sk-toggleable__label-arrow\">RandomForestClassifier</label><div class=\"sk-toggleable__content\"><pre>RandomForestClassifier()</pre></div></div></div></div></div>"
      ],
      "text/plain": [
       "RandomForestClassifier()"
      ]
     },
     "execution_count": 33,
     "metadata": {},
     "output_type": "execute_result"
    }
   ],
   "source": [
    "forest = RandomForestClassifier()\n",
    "forest.fit(X_train, y_train)"
   ]
  },
  {
   "cell_type": "markdown",
   "id": "78b12738",
   "metadata": {},
   "source": [
    "#### Predict on train test"
   ]
  },
  {
   "cell_type": "code",
   "execution_count": 34,
   "id": "0deba917",
   "metadata": {},
   "outputs": [],
   "source": [
    "y_fr_train_pred = forest.predict(X_train)"
   ]
  },
  {
   "cell_type": "code",
   "execution_count": 35,
   "id": "3990e0c4",
   "metadata": {},
   "outputs": [
    {
     "data": {
      "text/plain": [
       "<Axes: >"
      ]
     },
     "execution_count": 35,
     "metadata": {},
     "output_type": "execute_result"
    },
    {
     "data": {
      "image/png": "[encoded data removed]",
      "text/plain": [
       "<Figure size 640x480 with 2 Axes>"
      ]
     },
     "metadata": {},
     "output_type": "display_data"
    }
   ],
   "source": [
    "sb.heatmap(confusion_matrix(y_train, y_fr_train_pred), annot = True, fmt=\"d\")"
   ]
  },
  {
   "cell_type": "code",
   "execution_count": 36,
   "id": "203f42f0",
   "metadata": {},
   "outputs": [
    {
     "name": "stdout",
     "output_type": "stream",
     "text": [
      "Random Forest Accuracy: 1.0\n",
      "Random Forest Recall: 1.0\n",
      "Random Forest Precision: 1.0\n",
      "Random Forest F2 score: 1.0\n",
      "Random Forest ROC AUC Score 1.0\n"
     ]
    }
   ],
   "source": [
    "# Evaluation of model's performance on train set\n",
    "print(\"Random Forest Accuracy:\", accuracy_score(y_train, y_fr_train_pred))\n",
    "print(\"Random Forest Recall:\", recall_score(y_train, y_fr_train_pred))\n",
    "print(\"Random Forest Precision:\", precision_score(y_train, y_fr_train_pred))\n",
    "print(\"Random Forest F2 score:\", fbeta_score(y_train, y_fr_train_pred, average='binary', beta=2))\n",
    "print('Random Forest ROC AUC Score', roc_auc_score(y_train, y_fr_train_pred))"
   ]
  },
  {
   "cell_type": "markdown",
   "id": "d9076afe",
   "metadata": {},
   "source": [
    "Risk of overfitting"
   ]
  },
  {
   "cell_type": "markdown",
   "id": "8add3b9b",
   "metadata": {},
   "source": [
    "#### Predict on test set"
   ]
  },
  {
   "cell_type": "code",
   "execution_count": 37,
   "id": "dfc79e7e",
   "metadata": {},
   "outputs": [],
   "source": [
    "y_fr_test_pred = forest.predict(X_test)"
   ]
  },
  {
   "cell_type": "code",
   "execution_count": 38,
   "id": "a05f32bf",
   "metadata": {},
   "outputs": [
    {
     "data": {
      "text/plain": [
       "<Axes: >"
      ]
     },
     "execution_count": 38,
     "metadata": {},
     "output_type": "execute_result"
    },
    {
     "data": {
      "image/png": "[encoded data removed]",
      "text/plain": [
       "<Figure size 640x480 with 2 Axes>"
      ]
     },
     "metadata": {},
     "output_type": "display_data"
    }
   ],
   "source": [
    "sb.heatmap(confusion_matrix(y_test, y_fr_test_pred), annot = True, fmt=\"d\")"
   ]
  },
  {
   "cell_type": "code",
   "execution_count": 39,
   "id": "901a1a66",
   "metadata": {},
   "outputs": [
    {
     "name": "stdout",
     "output_type": "stream",
     "text": [
      "Random Forest Accuracy: 0.9843400447427293\n",
      "Random Forest Recall: 0.6807692307692308\n",
      "Random Forest Precision: 0.9943820224719101\n",
      "Random Forest F2 score: 0.7266009852216749\n",
      "Random Forest ROC AUC Score 0.8402866530021703\n"
     ]
    }
   ],
   "source": [
    "# Evaluation of model's performance on test set\n",
    "print(\"Random Forest Accuracy:\", accuracy_score(y_test, y_fr_test_pred))\n",
    "print(\"Random Forest Recall:\", recall_score(y_test, y_fr_test_pred))\n",
    "print(\"Random Forest Precision:\", precision_score(y_test, y_fr_test_pred))\n",
    "print(\"Random Forest F2 score:\", fbeta_score(y_test, y_fr_test_pred, average='binary', beta=2))\n",
    "print('Random Forest ROC AUC Score', roc_auc_score(y_test, y_fr_test_pred))"
   ]
  },
  {
   "cell_type": "markdown",
   "id": "6e680a8d",
   "metadata": {},
   "source": [
    "## 3. Support Vector Machine"
   ]
  },
  {
   "cell_type": "markdown",
   "id": "db5beaf3",
   "metadata": {},
   "source": [
    "#### a. Apply Argument Class Weight on Imbalanced Data"
   ]
  },
  {
   "cell_type": "code",
   "execution_count": 40,
   "id": "28311c32",
   "metadata": {},
   "outputs": [
    {
     "data": {
      "text/html": [
       "<style>#sk-container-id-3 {color: black;background-color: white;}#sk-container-id-3 pre{padding: 0;}#sk-container-id-3 div.sk-toggleable {background-color: white;}#sk-container-id-3 label.sk-toggleable__label {cursor: pointer;display: block;width: 100%;margin-bottom: 0;padding: 0.3em;box-sizing: border-box;text-align: center;}#sk-container-id-3 label.sk-toggleable__label-arrow:before {content: \"▸\";float: left;margin-right: 0.25em;color: #696969;}#sk-container-id-3 label.sk-toggleable__label-arrow:hover:before {color: black;}#sk-container-id-3 div.sk-estimator:hover label.sk-toggleable__label-arrow:before {color: black;}#sk-container-id-3 div.sk-toggleable__content {max-height: 0;max-width: 0;overflow: hidden;text-align: left;background-color: #f0f8ff;}#sk-container-id-3 div.sk-toggleable__content pre {margin: 0.2em;color: black;border-radius: 0.25em;background-color: #f0f8ff;}#sk-container-id-3 input.sk-toggleable__control:checked~div.sk-toggleable__content {max-height: 200px;max-width: 100%;overflow: auto;}#sk-container-id-3 input.sk-toggleable__control:checked~label.sk-toggleable__label-arrow:before {content: \"▾\";}#sk-container-id-3 div.sk-estimator input.sk-toggleable__control:checked~label.sk-toggleable__label {background-color: #d4ebff;}#sk-container-id-3 div.sk-label input.sk-toggleable__control:checked~label.sk-toggleable__label {background-color: #d4ebff;}#sk-container-id-3 input.sk-hidden--visually {border: 0;clip: rect(1px 1px 1px 1px);clip: rect(1px, 1px, 1px, 1px);height: 1px;margin: -1px;overflow: hidden;padding: 0;position: absolute;width: 1px;}#sk-container-id-3 div.sk-estimator {font-family: monospace;background-color: #f0f8ff;border: 1px dotted black;border-radius: 0.25em;box-sizing: border-box;margin-bottom: 0.5em;}#sk-container-id-3 div.sk-estimator:hover {background-color: #d4ebff;}#sk-container-id-3 div.sk-parallel-item::after {content: \"\";width: 100%;border-bottom: 1px solid gray;flex-grow: 1;}#sk-container-id-3 div.sk-label:hover label.sk-toggleable__label {background-color: #d4ebff;}#sk-container-id-3 div.sk-serial::before {content: \"\";position: absolute;border-left: 1px solid gray;box-sizing: border-box;top: 0;bottom: 0;left: 50%;z-index: 0;}#sk-container-id-3 div.sk-serial {display: flex;flex-direction: column;align-items: center;background-color: white;padding-right: 0.2em;padding-left: 0.2em;position: relative;}#sk-container-id-3 div.sk-item {position: relative;z-index: 1;}#sk-container-id-3 div.sk-parallel {display: flex;align-items: stretch;justify-content: center;background-color: white;position: relative;}#sk-container-id-3 div.sk-item::before, #sk-container-id-3 div.sk-parallel-item::before {content: \"\";position: absolute;border-left: 1px solid gray;box-sizing: border-box;top: 0;bottom: 0;left: 50%;z-index: -1;}#sk-container-id-3 div.sk-parallel-item {display: flex;flex-direction: column;z-index: 1;position: relative;background-color: white;}#sk-container-id-3 div.sk-parallel-item:first-child::after {align-self: flex-end;width: 50%;}#sk-container-id-3 div.sk-parallel-item:last-child::after {align-self: flex-start;width: 50%;}#sk-container-id-3 div.sk-parallel-item:only-child::after {width: 0;}#sk-container-id-3 div.sk-dashed-wrapped {border: 1px dashed gray;margin: 0 0.4em 0.5em 0.4em;box-sizing: border-box;padding-bottom: 0.4em;background-color: white;}#sk-container-id-3 div.sk-label label {font-family: monospace;font-weight: bold;display: inline-block;line-height: 1.2em;}#sk-container-id-3 div.sk-label-container {text-align: center;}#sk-container-id-3 div.sk-container {/* jupyter's `normalize.less` sets `[hidden] { display: none; }` but bootstrap.min.css set `[hidden] { display: none !important; }` so we also need the `!important` here to be able to override the default hidden behavior on the sphinx rendered scikit-learn.org. See: https://github.com/scikit-learn/scikit-learn/issues/21755 */display: inline-block !important;position: relative;}#sk-container-id-3 div.sk-text-repr-fallback {display: none;}</style><div id=\"sk-container-id-3\" class=\"sk-top-container\"><div class=\"sk-text-repr-fallback\"><pre>SVC(class_weight=&#x27;balanced&#x27;)</pre><b>In a Jupyter environment, please rerun this cell to show the HTML representation or trust the notebook. <br />On GitHub, the HTML representation is unable to render, please try loading this page with nbviewer.org.</b></div><div class=\"sk-container\" hidden><div class=\"sk-item\"><div class=\"sk-estimator sk-toggleable\"><input class=\"sk-toggleable__control sk-hidden--visually\" id=\"sk-estimator-id-3\" type=\"checkbox\" checked><label for=\"sk-estimator-id-3\" class=\"sk-toggleable__label sk-toggleable__label-arrow\">SVC</label><div class=\"sk-toggleable__content\"><pre>SVC(class_weight=&#x27;balanced&#x27;)</pre></div></div></div></div></div>"
      ],
      "text/plain": [
       "SVC(class_weight='balanced')"
      ]
     },
     "execution_count": 40,
     "metadata": {},
     "output_type": "execute_result"
    }
   ],
   "source": [
    "svm = SVC(class_weight='balanced')\n",
    "svm.fit(X_train_imbalanced, y_train_imbalanced)"
   ]
  },
  {
   "cell_type": "markdown",
   "id": "872bc4a1",
   "metadata": {},
   "source": [
    "#### Predict on train set"
   ]
  },
  {
   "cell_type": "code",
   "execution_count": 41,
   "id": "b1242975",
   "metadata": {},
   "outputs": [],
   "source": [
    "y_svm_train_imbalanced_pred = svm.predict(X_train_imbalanced)"
   ]
  },
  {
   "cell_type": "code",
   "execution_count": 42,
   "id": "a4f66a57",
   "metadata": {},
   "outputs": [
    {
     "name": "stdout",
     "output_type": "stream",
     "text": [
      "SVM Accuracy: 0.9997603068072867\n",
      "SVM Recall: 1.0\n",
      "SVM Precision: 0.9950738916256158\n",
      "SVM F2 score: 0.9990108803165184\n",
      "SVM ROC AUC Score 0.9998740554156171\n"
     ]
    }
   ],
   "source": [
    "# Evaluation of model's performance on train set\n",
    "print(\"SVM Accuracy:\", accuracy_score(y_train_imbalanced, y_svm_train_imbalanced_pred))\n",
    "print(\"SVM Recall:\", recall_score(y_train_imbalanced, y_svm_train_imbalanced_pred))\n",
    "print(\"SVM Precision:\", precision_score(y_train_imbalanced, y_svm_train_imbalanced_pred))\n",
    "print(\"SVM F2 score:\", fbeta_score(y_train_imbalanced, y_svm_train_imbalanced_pred, average='binary', beta=2))\n",
    "print('SVM ROC AUC Score', roc_auc_score(y_train_imbalanced, y_svm_train_imbalanced_pred))"
   ]
  },
  {
   "cell_type": "markdown",
   "id": "021d738d",
   "metadata": {},
   "source": [
    "#### Predict on test set"
   ]
  },
  {
   "cell_type": "code",
   "execution_count": 43,
   "id": "c6ea287a",
   "metadata": {},
   "outputs": [],
   "source": [
    "y_svm_test_imbalanced_pred = svm.predict(X_test)"
   ]
  },
  {
   "cell_type": "code",
   "execution_count": 44,
   "id": "8779dd1b",
   "metadata": {},
   "outputs": [
    {
     "data": {
      "text/plain": [
       "<Axes: >"
      ]
     },
     "execution_count": 44,
     "metadata": {},
     "output_type": "execute_result"
    },
    {
     "data": {
      "image/png": "[encoded data removed]",
      "text/plain": [
       "<Figure size 640x480 with 2 Axes>"
      ]
     },
     "metadata": {},
     "output_type": "display_data"
    }
   ],
   "source": [
    "sb.heatmap(confusion_matrix(y_test, y_svm_test_imbalanced_pred), annot = True, fmt=\"d\")"
   ]
  },
  {
   "cell_type": "code",
   "execution_count": 45,
   "id": "7b4c5334",
   "metadata": {},
   "outputs": [
    {
     "name": "stdout",
     "output_type": "stream",
     "text": [
      "SVM Accuracy: 0.9854586129753915\n",
      "SVM Recall: 0.7038461538461539\n",
      "SVM Precision: 0.9945652173913043\n",
      "SVM F2 score: 0.7475490196078433\n",
      "SVM ROC AUC Score 0.8518251145406319\n"
     ]
    }
   ],
   "source": [
    "# Evaluation of model's performance on test set\n",
    "print(\"SVM Accuracy:\", accuracy_score(y_test, y_svm_test_imbalanced_pred))\n",
    "print(\"SVM Recall:\", recall_score(y_test, y_svm_test_imbalanced_pred))\n",
    "print(\"SVM Precision:\", precision_score(y_test, y_svm_test_imbalanced_pred))\n",
    "print(\"SVM F2 score:\", fbeta_score(y_test, y_svm_test_imbalanced_pred, average='binary', beta=2))\n",
    "print('SVM ROC AUC Score', roc_auc_score(y_test, y_svm_test_imbalanced_pred))"
   ]
  },
  {
   "cell_type": "markdown",
   "id": "212a7893",
   "metadata": {},
   "source": [
    "#### b. Balanced data by SMOTE"
   ]
  },
  {
   "cell_type": "code",
   "execution_count": 46,
   "id": "ee989a5d",
   "metadata": {},
   "outputs": [
    {
     "data": {
      "text/html": [
       "<style>#sk-container-id-4 {color: black;background-color: white;}#sk-container-id-4 pre{padding: 0;}#sk-container-id-4 div.sk-toggleable {background-color: white;}#sk-container-id-4 label.sk-toggleable__label {cursor: pointer;display: block;width: 100%;margin-bottom: 0;padding: 0.3em;box-sizing: border-box;text-align: center;}#sk-container-id-4 label.sk-toggleable__label-arrow:before {content: \"▸\";float: left;margin-right: 0.25em;color: #696969;}#sk-container-id-4 label.sk-toggleable__label-arrow:hover:before {color: black;}#sk-container-id-4 div.sk-estimator:hover label.sk-toggleable__label-arrow:before {color: black;}#sk-container-id-4 div.sk-toggleable__content {max-height: 0;max-width: 0;overflow: hidden;text-align: left;background-color: #f0f8ff;}#sk-container-id-4 div.sk-toggleable__content pre {margin: 0.2em;color: black;border-radius: 0.25em;background-color: #f0f8ff;}#sk-container-id-4 input.sk-toggleable__control:checked~div.sk-toggleable__content {max-height: 200px;max-width: 100%;overflow: auto;}#sk-container-id-4 input.sk-toggleable__control:checked~label.sk-toggleable__label-arrow:before {content: \"▾\";}#sk-container-id-4 div.sk-estimator input.sk-toggleable__control:checked~label.sk-toggleable__label {background-color: #d4ebff;}#sk-container-id-4 div.sk-label input.sk-toggleable__control:checked~label.sk-toggleable__label {background-color: #d4ebff;}#sk-container-id-4 input.sk-hidden--visually {border: 0;clip: rect(1px 1px 1px 1px);clip: rect(1px, 1px, 1px, 1px);height: 1px;margin: -1px;overflow: hidden;padding: 0;position: absolute;width: 1px;}#sk-container-id-4 div.sk-estimator {font-family: monospace;background-color: #f0f8ff;border: 1px dotted black;border-radius: 0.25em;box-sizing: border-box;margin-bottom: 0.5em;}#sk-container-id-4 div.sk-estimator:hover {background-color: #d4ebff;}#sk-container-id-4 div.sk-parallel-item::after {content: \"\";width: 100%;border-bottom: 1px solid gray;flex-grow: 1;}#sk-container-id-4 div.sk-label:hover label.sk-toggleable__label {background-color: #d4ebff;}#sk-container-id-4 div.sk-serial::before {content: \"\";position: absolute;border-left: 1px solid gray;box-sizing: border-box;top: 0;bottom: 0;left: 50%;z-index: 0;}#sk-container-id-4 div.sk-serial {display: flex;flex-direction: column;align-items: center;background-color: white;padding-right: 0.2em;padding-left: 0.2em;position: relative;}#sk-container-id-4 div.sk-item {position: relative;z-index: 1;}#sk-container-id-4 div.sk-parallel {display: flex;align-items: stretch;justify-content: center;background-color: white;position: relative;}#sk-container-id-4 div.sk-item::before, #sk-container-id-4 div.sk-parallel-item::before {content: \"\";position: absolute;border-left: 1px solid gray;box-sizing: border-box;top: 0;bottom: 0;left: 50%;z-index: -1;}#sk-container-id-4 div.sk-parallel-item {display: flex;flex-direction: column;z-index: 1;position: relative;background-color: white;}#sk-container-id-4 div.sk-parallel-item:first-child::after {align-self: flex-end;width: 50%;}#sk-container-id-4 div.sk-parallel-item:last-child::after {align-self: flex-start;width: 50%;}#sk-container-id-4 div.sk-parallel-item:only-child::after {width: 0;}#sk-container-id-4 div.sk-dashed-wrapped {border: 1px dashed gray;margin: 0 0.4em 0.5em 0.4em;box-sizing: border-box;padding-bottom: 0.4em;background-color: white;}#sk-container-id-4 div.sk-label label {font-family: monospace;font-weight: bold;display: inline-block;line-height: 1.2em;}#sk-container-id-4 div.sk-label-container {text-align: center;}#sk-container-id-4 div.sk-container {/* jupyter's `normalize.less` sets `[hidden] { display: none; }` but bootstrap.min.css set `[hidden] { display: none !important; }` so we also need the `!important` here to be able to override the default hidden behavior on the sphinx rendered scikit-learn.org. See: https://github.com/scikit-learn/scikit-learn/issues/21755 */display: inline-block !important;position: relative;}#sk-container-id-4 div.sk-text-repr-fallback {display: none;}</style><div id=\"sk-container-id-4\" class=\"sk-top-container\"><div class=\"sk-text-repr-fallback\"><pre>SVC()</pre><b>In a Jupyter environment, please rerun this cell to show the HTML representation or trust the notebook. <br />On GitHub, the HTML representation is unable to render, please try loading this page with nbviewer.org.</b></div><div class=\"sk-container\" hidden><div class=\"sk-item\"><div class=\"sk-estimator sk-toggleable\"><input class=\"sk-toggleable__control sk-hidden--visually\" id=\"sk-estimator-id-4\" type=\"checkbox\" checked><label for=\"sk-estimator-id-4\" class=\"sk-toggleable__label sk-toggleable__label-arrow\">SVC</label><div class=\"sk-toggleable__content\"><pre>SVC()</pre></div></div></div></div></div>"
      ],
      "text/plain": [
       "SVC()"
      ]
     },
     "execution_count": 46,
     "metadata": {},
     "output_type": "execute_result"
    }
   ],
   "source": [
    "svm = SVC()\n",
    "svm.fit(X_train, y_train)"
   ]
  },
  {
   "cell_type": "markdown",
   "id": "191d3afb",
   "metadata": {},
   "source": [
    "This model takes the longest to run."
   ]
  },
  {
   "cell_type": "markdown",
   "id": "255efcfd",
   "metadata": {},
   "source": [
    "#### Predict on train set"
   ]
  },
  {
   "cell_type": "code",
   "execution_count": 47,
   "id": "b489be6a",
   "metadata": {},
   "outputs": [],
   "source": [
    "y_svm_train_pred = svm.predict(X_train)"
   ]
  },
  {
   "cell_type": "code",
   "execution_count": 48,
   "id": "9801b251",
   "metadata": {},
   "outputs": [
    {
     "data": {
      "text/plain": [
       "<Axes: >"
      ]
     },
     "execution_count": 48,
     "metadata": {},
     "output_type": "execute_result"
    },
    {
     "data": {
      "image/png": "[encoded data removed]",
      "text/plain": [
       "<Figure size 640x480 with 2 Axes>"
      ]
     },
     "metadata": {},
     "output_type": "display_data"
    }
   ],
   "source": [
    "sb.heatmap(confusion_matrix(y_train, y_svm_train_pred), annot = True, fmt=\"d\")"
   ]
  },
  {
   "cell_type": "code",
   "execution_count": 49,
   "id": "f49bb57f",
   "metadata": {},
   "outputs": [
    {
     "name": "stdout",
     "output_type": "stream",
     "text": [
      "SVM Accuracy: 0.9968040907638223\n",
      "SVM Recall: 0.933993399339934\n",
      "SVM Precision: 1.0\n",
      "SVM F2 score: 0.9464882943143813\n",
      "SVM ROC AUC Score 0.966996699669967\n"
     ]
    }
   ],
   "source": [
    "# Evaluation of model's performance on train set\n",
    "print(\"SVM Accuracy:\", accuracy_score(y_train, y_svm_train_pred))\n",
    "print(\"SVM Recall:\", recall_score(y_train, y_svm_train_pred))\n",
    "print(\"SVM Precision:\", precision_score(y_train, y_svm_train_pred))\n",
    "print(\"SVM F2 score:\", fbeta_score(y_train, y_svm_train_pred, average='binary', beta=2))\n",
    "print('SVM ROC AUC Score', roc_auc_score(y_train, y_svm_train_pred))"
   ]
  },
  {
   "cell_type": "markdown",
   "id": "8647531a",
   "metadata": {},
   "source": [
    "#### Predict on test set"
   ]
  },
  {
   "cell_type": "code",
   "execution_count": 50,
   "id": "1a809503",
   "metadata": {},
   "outputs": [],
   "source": [
    "y_svm_test_pred = svm.predict(X_test)"
   ]
  },
  {
   "cell_type": "code",
   "execution_count": 51,
   "id": "0e5f5b4b",
   "metadata": {},
   "outputs": [
    {
     "data": {
      "text/plain": [
       "<Axes: >"
      ]
     },
     "execution_count": 51,
     "metadata": {},
     "output_type": "execute_result"
    },
    {
     "data": {
      "image/png": "[encoded data removed]",
      "text/plain": [
       "<Figure size 640x480 with 2 Axes>"
      ]
     },
     "metadata": {},
     "output_type": "display_data"
    }
   ],
   "source": [
    "sb.heatmap(confusion_matrix(y_test, y_svm_test_pred), annot = True, fmt=\"d\")"
   ]
  },
  {
   "cell_type": "code",
   "execution_count": 52,
   "id": "a213547e",
   "metadata": {},
   "outputs": [
    {
     "name": "stdout",
     "output_type": "stream",
     "text": [
      "SVM Accuracy: 0.9821029082774049\n",
      "SVM Recall: 0.6307692307692307\n",
      "SVM Precision: 1.0\n",
      "SVM F2 score: 0.6810631229235881\n",
      "SVM ROC AUC Score 0.8153846153846154\n"
     ]
    }
   ],
   "source": [
    "# Evaluation of model's performance on test set\n",
    "print(\"SVM Accuracy:\", accuracy_score(y_test, y_svm_test_pred))\n",
    "print(\"SVM Recall:\", recall_score(y_test, y_svm_test_pred))\n",
    "print(\"SVM Precision:\", precision_score(y_test, y_svm_test_pred))\n",
    "print(\"SVM F2 score:\", fbeta_score(y_test, y_svm_test_pred, average='binary', beta=2))\n",
    "print('SVM ROC AUC Score', roc_auc_score(y_test, y_svm_test_pred))"
   ]
  },
  {
   "cell_type": "markdown",
   "id": "635a4ec7",
   "metadata": {},
   "source": [
    "## 4. XGBoost Classifier"
   ]
  },
  {
   "cell_type": "code",
   "execution_count": 53,
   "id": "455b574e",
   "metadata": {},
   "outputs": [
    {
     "data": {
      "text/html": [
       "<style>#sk-container-id-5 {color: black;background-color: white;}#sk-container-id-5 pre{padding: 0;}#sk-container-id-5 div.sk-toggleable {background-color: white;}#sk-container-id-5 label.sk-toggleable__label {cursor: pointer;display: block;width: 100%;margin-bottom: 0;padding: 0.3em;box-sizing: border-box;text-align: center;}#sk-container-id-5 label.sk-toggleable__label-arrow:before {content: \"▸\";float: left;margin-right: 0.25em;color: #696969;}#sk-container-id-5 label.sk-toggleable__label-arrow:hover:before {color: black;}#sk-container-id-5 div.sk-estimator:hover label.sk-toggleable__label-arrow:before {color: black;}#sk-container-id-5 div.sk-toggleable__content {max-height: 0;max-width: 0;overflow: hidden;text-align: left;background-color: #f0f8ff;}#sk-container-id-5 div.sk-toggleable__content pre {margin: 0.2em;color: black;border-radius: 0.25em;background-color: #f0f8ff;}#sk-container-id-5 input.sk-toggleable__control:checked~div.sk-toggleable__content {max-height: 200px;max-width: 100%;overflow: auto;}#sk-container-id-5 input.sk-toggleable__control:checked~label.sk-toggleable__label-arrow:before {content: \"▾\";}#sk-container-id-5 div.sk-estimator input.sk-toggleable__control:checked~label.sk-toggleable__label {background-color: #d4ebff;}#sk-container-id-5 div.sk-label input.sk-toggleable__control:checked~label.sk-toggleable__label {background-color: #d4ebff;}#sk-container-id-5 input.sk-hidden--visually {border: 0;clip: rect(1px 1px 1px 1px);clip: rect(1px, 1px, 1px, 1px);height: 1px;margin: -1px;overflow: hidden;padding: 0;position: absolute;width: 1px;}#sk-container-id-5 div.sk-estimator {font-family: monospace;background-color: #f0f8ff;border: 1px dotted black;border-radius: 0.25em;box-sizing: border-box;margin-bottom: 0.5em;}#sk-container-id-5 div.sk-estimator:hover {background-color: #d4ebff;}#sk-container-id-5 div.sk-parallel-item::after {content: \"\";width: 100%;border-bottom: 1px solid gray;flex-grow: 1;}#sk-container-id-5 div.sk-label:hover label.sk-toggleable__label {background-color: #d4ebff;}#sk-container-id-5 div.sk-serial::before {content: \"\";position: absolute;border-left: 1px solid gray;box-sizing: border-box;top: 0;bottom: 0;left: 50%;z-index: 0;}#sk-container-id-5 div.sk-serial {display: flex;flex-direction: column;align-items: center;background-color: white;padding-right: 0.2em;padding-left: 0.2em;position: relative;}#sk-container-id-5 div.sk-item {position: relative;z-index: 1;}#sk-container-id-5 div.sk-parallel {display: flex;align-items: stretch;justify-content: center;background-color: white;position: relative;}#sk-container-id-5 div.sk-item::before, #sk-container-id-5 div.sk-parallel-item::before {content: \"\";position: absolute;border-left: 1px solid gray;box-sizing: border-box;top: 0;bottom: 0;left: 50%;z-index: -1;}#sk-container-id-5 div.sk-parallel-item {display: flex;flex-direction: column;z-index: 1;position: relative;background-color: white;}#sk-container-id-5 div.sk-parallel-item:first-child::after {align-self: flex-end;width: 50%;}#sk-container-id-5 div.sk-parallel-item:last-child::after {align-self: flex-start;width: 50%;}#sk-container-id-5 div.sk-parallel-item:only-child::after {width: 0;}#sk-container-id-5 div.sk-dashed-wrapped {border: 1px dashed gray;margin: 0 0.4em 0.5em 0.4em;box-sizing: border-box;padding-bottom: 0.4em;background-color: white;}#sk-container-id-5 div.sk-label label {font-family: monospace;font-weight: bold;display: inline-block;line-height: 1.2em;}#sk-container-id-5 div.sk-label-container {text-align: center;}#sk-container-id-5 div.sk-container {/* jupyter's `normalize.less` sets `[hidden] { display: none; }` but bootstrap.min.css set `[hidden] { display: none !important; }` so we also need the `!important` here to be able to override the default hidden behavior on the sphinx rendered scikit-learn.org. See: https://github.com/scikit-learn/scikit-learn/issues/21755 */display: inline-block !important;position: relative;}#sk-container-id-5 div.sk-text-repr-fallback {display: none;}</style><div id=\"sk-container-id-5\" class=\"sk-top-container\"><div class=\"sk-text-repr-fallback\"><pre>XGBClassifier(base_score=None, booster=None, callbacks=None,\n",
       "              colsample_bylevel=None, colsample_bynode=None,\n",
       "              colsample_bytree=None, device=None, early_stopping_rounds=None,\n",
       "              enable_categorical=False, eval_metric=None, feature_types=None,\n",
       "              gamma=None, grow_policy=None, importance_type=None,\n",
       "              interaction_constraints=None, learning_rate=None, max_bin=None,\n",
       "              max_cat_threshold=None, max_cat_to_onehot=None,\n",
       "              max_delta_step=None, max_depth=None, max_leaves=None,\n",
       "              min_child_weight=None, missing=nan, monotone_constraints=None,\n",
       "              multi_strategy=None, n_estimators=None, n_jobs=None,\n",
       "              num_parallel_tree=None, random_state=None, ...)</pre><b>In a Jupyter environment, please rerun this cell to show the HTML representation or trust the notebook. <br />On GitHub, the HTML representation is unable to render, please try loading this page with nbviewer.org.</b></div><div class=\"sk-container\" hidden><div class=\"sk-item\"><div class=\"sk-estimator sk-toggleable\"><input class=\"sk-toggleable__control sk-hidden--visually\" id=\"sk-estimator-id-5\" type=\"checkbox\" checked><label for=\"sk-estimator-id-5\" class=\"sk-toggleable__label sk-toggleable__label-arrow\">XGBClassifier</label><div class=\"sk-toggleable__content\"><pre>XGBClassifier(base_score=None, booster=None, callbacks=None,\n",
       "              colsample_bylevel=None, colsample_bynode=None,\n",
       "              colsample_bytree=None, device=None, early_stopping_rounds=None,\n",
       "              enable_categorical=False, eval_metric=None, feature_types=None,\n",
       "              gamma=None, grow_policy=None, importance_type=None,\n",
       "              interaction_constraints=None, learning_rate=None, max_bin=None,\n",
       "              max_cat_threshold=None, max_cat_to_onehot=None,\n",
       "              max_delta_step=None, max_depth=None, max_leaves=None,\n",
       "              min_child_weight=None, missing=nan, monotone_constraints=None,\n",
       "              multi_strategy=None, n_estimators=None, n_jobs=None,\n",
       "              num_parallel_tree=None, random_state=None, ...)</pre></div></div></div></div></div>"
      ],
      "text/plain": [
       "XGBClassifier(base_score=None, booster=None, callbacks=None,\n",
       "              colsample_bylevel=None, colsample_bynode=None,\n",
       "              colsample_bytree=None, device=None, early_stopping_rounds=None,\n",
       "              enable_categorical=False, eval_metric=None, feature_types=None,\n",
       "              gamma=None, grow_policy=None, importance_type=None,\n",
       "              interaction_constraints=None, learning_rate=None, max_bin=None,\n",
       "              max_cat_threshold=None, max_cat_to_onehot=None,\n",
       "              max_delta_step=None, max_depth=None, max_leaves=None,\n",
       "              min_child_weight=None, missing=nan, monotone_constraints=None,\n",
       "              multi_strategy=None, n_estimators=None, n_jobs=None,\n",
       "              num_parallel_tree=None, random_state=None, ...)"
      ]
     },
     "execution_count": 53,
     "metadata": {},
     "output_type": "execute_result"
    }
   ],
   "source": [
    "xgb = XGBClassifier()\n",
    "xgb.fit(X_train, y_train)"
   ]
  },
  {
   "cell_type": "markdown",
   "id": "301d2a5e",
   "metadata": {},
   "source": [
    "#### Predict on train set"
   ]
  },
  {
   "cell_type": "code",
   "execution_count": 54,
   "id": "9fc57e98",
   "metadata": {},
   "outputs": [],
   "source": [
    "y_xgb_train_pred = xgb.predict(X_train)"
   ]
  },
  {
   "cell_type": "code",
   "execution_count": 55,
   "id": "2be54d49",
   "metadata": {},
   "outputs": [
    {
     "data": {
      "text/plain": [
       "<Axes: >"
      ]
     },
     "execution_count": 55,
     "metadata": {},
     "output_type": "execute_result"
    },
    {
     "data": {
      "image/png": "[encoded data removed]",
      "text/plain": [
       "<Figure size 640x480 with 2 Axes>"
      ]
     },
     "metadata": {},
     "output_type": "display_data"
    }
   ],
   "source": [
    "sb.heatmap(confusion_matrix(y_train, y_xgb_train_pred), annot = True, fmt=\"d\")"
   ]
  },
  {
   "cell_type": "code",
   "execution_count": 56,
   "id": "92295b03",
   "metadata": {},
   "outputs": [
    {
     "name": "stdout",
     "output_type": "stream",
     "text": [
      "XGB Accuracy: 1.0\n",
      "XGB Recall: 1.0\n",
      "XGB Precision: 1.0\n",
      "XGB F2 score: 1.0\n",
      "XGB ROC AUC Score 1.0\n"
     ]
    }
   ],
   "source": [
    "# Evaluation of model's performance on train set\n",
    "print(\"XGB Accuracy:\", accuracy_score(y_train, y_xgb_train_pred))\n",
    "print(\"XGB Recall:\", recall_score(y_train, y_xgb_train_pred))\n",
    "print(\"XGB Precision:\", precision_score(y_train, y_xgb_train_pred))\n",
    "print(\"XGB F2 score:\", fbeta_score(y_train, y_xgb_train_pred, average='binary', beta=2))\n",
    "print('XGB ROC AUC Score', roc_auc_score(y_train, y_xgb_train_pred))"
   ]
  },
  {
   "cell_type": "markdown",
   "id": "156e4647",
   "metadata": {},
   "source": [
    "#### Predict on test set"
   ]
  },
  {
   "cell_type": "code",
   "execution_count": 57,
   "id": "0cafc21a",
   "metadata": {},
   "outputs": [],
   "source": [
    "y_xgb_test_pred = xgb.predict(X_test)"
   ]
  },
  {
   "cell_type": "code",
   "execution_count": 58,
   "id": "2dd57850",
   "metadata": {},
   "outputs": [
    {
     "data": {
      "text/plain": [
       "<Axes: >"
      ]
     },
     "execution_count": 58,
     "metadata": {},
     "output_type": "execute_result"
    },
    {
     "data": {
      "image/png": "[encoded data removed]",
      "text/plain": [
       "<Figure size 640x480 with 2 Axes>"
      ]
     },
     "metadata": {},
     "output_type": "display_data"
    }
   ],
   "source": [
    "sb.heatmap(confusion_matrix(y_test, y_xgb_test_pred), annot = True, fmt=\"d\")"
   ]
  },
  {
   "cell_type": "code",
   "execution_count": 59,
   "id": "3c6947f9",
   "metadata": {},
   "outputs": [
    {
     "name": "stdout",
     "output_type": "stream",
     "text": [
      "XGB Accuracy: 0.9863907531692767\n",
      "XGB Recall: 0.7615384615384615\n",
      "XGB Precision: 0.9473684210526315\n",
      "XGB F2 score: 0.7926341072858286\n",
      "XGB ROC AUC Score 0.8796916445623342\n"
     ]
    }
   ],
   "source": [
    "# Evaluation of model's performance on test set\n",
    "print(\"XGB Accuracy:\", accuracy_score(y_test, y_xgb_test_pred))\n",
    "print(\"XGB Recall:\", recall_score(y_test, y_xgb_test_pred))\n",
    "print(\"XGB Precision:\", precision_score(y_test, y_xgb_test_pred))\n",
    "print(\"XGB F2 score:\", fbeta_score(y_test, y_xgb_test_pred, average='binary', beta=2))\n",
    "print('XGB ROC AUC Score', roc_auc_score(y_test, y_xgb_test_pred))"
   ]
  },
  {
   "cell_type": "code",
   "execution_count": 60,
   "id": "4c8f5c8d",
   "metadata": {},
   "outputs": [
    {
     "name": "stdout",
     "output_type": "stream",
     "text": [
      "XGB F1 score: 0.8443496801705757\n"
     ]
    }
   ],
   "source": [
    "print(\"XGB F1 score:\", fbeta_score(y_test, y_xgb_test_pred, average='binary', beta=1))"
   ]
  },
  {
   "cell_type": "markdown",
   "id": "69922316",
   "metadata": {},
   "source": [
    "## 5. KNeighbors Classifier"
   ]
  },
  {
   "cell_type": "code",
   "execution_count": 61,
   "id": "3c978137",
   "metadata": {},
   "outputs": [
    {
     "data": {
      "text/html": [
       "<style>#sk-container-id-6 {color: black;background-color: white;}#sk-container-id-6 pre{padding: 0;}#sk-container-id-6 div.sk-toggleable {background-color: white;}#sk-container-id-6 label.sk-toggleable__label {cursor: pointer;display: block;width: 100%;margin-bottom: 0;padding: 0.3em;box-sizing: border-box;text-align: center;}#sk-container-id-6 label.sk-toggleable__label-arrow:before {content: \"▸\";float: left;margin-right: 0.25em;color: #696969;}#sk-container-id-6 label.sk-toggleable__label-arrow:hover:before {color: black;}#sk-container-id-6 div.sk-estimator:hover label.sk-toggleable__label-arrow:before {color: black;}#sk-container-id-6 div.sk-toggleable__content {max-height: 0;max-width: 0;overflow: hidden;text-align: left;background-color: #f0f8ff;}#sk-container-id-6 div.sk-toggleable__content pre {margin: 0.2em;color: black;border-radius: 0.25em;background-color: #f0f8ff;}#sk-container-id-6 input.sk-toggleable__control:checked~div.sk-toggleable__content {max-height: 200px;max-width: 100%;overflow: auto;}#sk-container-id-6 input.sk-toggleable__control:checked~label.sk-toggleable__label-arrow:before {content: \"▾\";}#sk-container-id-6 div.sk-estimator input.sk-toggleable__control:checked~label.sk-toggleable__label {background-color: #d4ebff;}#sk-container-id-6 div.sk-label input.sk-toggleable__control:checked~label.sk-toggleable__label {background-color: #d4ebff;}#sk-container-id-6 input.sk-hidden--visually {border: 0;clip: rect(1px 1px 1px 1px);clip: rect(1px, 1px, 1px, 1px);height: 1px;margin: -1px;overflow: hidden;padding: 0;position: absolute;width: 1px;}#sk-container-id-6 div.sk-estimator {font-family: monospace;background-color: #f0f8ff;border: 1px dotted black;border-radius: 0.25em;box-sizing: border-box;margin-bottom: 0.5em;}#sk-container-id-6 div.sk-estimator:hover {background-color: #d4ebff;}#sk-container-id-6 div.sk-parallel-item::after {content: \"\";width: 100%;border-bottom: 1px solid gray;flex-grow: 1;}#sk-container-id-6 div.sk-label:hover label.sk-toggleable__label {background-color: #d4ebff;}#sk-container-id-6 div.sk-serial::before {content: \"\";position: absolute;border-left: 1px solid gray;box-sizing: border-box;top: 0;bottom: 0;left: 50%;z-index: 0;}#sk-container-id-6 div.sk-serial {display: flex;flex-direction: column;align-items: center;background-color: white;padding-right: 0.2em;padding-left: 0.2em;position: relative;}#sk-container-id-6 div.sk-item {position: relative;z-index: 1;}#sk-container-id-6 div.sk-parallel {display: flex;align-items: stretch;justify-content: center;background-color: white;position: relative;}#sk-container-id-6 div.sk-item::before, #sk-container-id-6 div.sk-parallel-item::before {content: \"\";position: absolute;border-left: 1px solid gray;box-sizing: border-box;top: 0;bottom: 0;left: 50%;z-index: -1;}#sk-container-id-6 div.sk-parallel-item {display: flex;flex-direction: column;z-index: 1;position: relative;background-color: white;}#sk-container-id-6 div.sk-parallel-item:first-child::after {align-self: flex-end;width: 50%;}#sk-container-id-6 div.sk-parallel-item:last-child::after {align-self: flex-start;width: 50%;}#sk-container-id-6 div.sk-parallel-item:only-child::after {width: 0;}#sk-container-id-6 div.sk-dashed-wrapped {border: 1px dashed gray;margin: 0 0.4em 0.5em 0.4em;box-sizing: border-box;padding-bottom: 0.4em;background-color: white;}#sk-container-id-6 div.sk-label label {font-family: monospace;font-weight: bold;display: inline-block;line-height: 1.2em;}#sk-container-id-6 div.sk-label-container {text-align: center;}#sk-container-id-6 div.sk-container {/* jupyter's `normalize.less` sets `[hidden] { display: none; }` but bootstrap.min.css set `[hidden] { display: none !important; }` so we also need the `!important` here to be able to override the default hidden behavior on the sphinx rendered scikit-learn.org. See: https://github.com/scikit-learn/scikit-learn/issues/21755 */display: inline-block !important;position: relative;}#sk-container-id-6 div.sk-text-repr-fallback {display: none;}</style><div id=\"sk-container-id-6\" class=\"sk-top-container\"><div class=\"sk-text-repr-fallback\"><pre>KNeighborsClassifier()</pre><b>In a Jupyter environment, please rerun this cell to show the HTML representation or trust the notebook. <br />On GitHub, the HTML representation is unable to render, please try loading this page with nbviewer.org.</b></div><div class=\"sk-container\" hidden><div class=\"sk-item\"><div class=\"sk-estimator sk-toggleable\"><input class=\"sk-toggleable__control sk-hidden--visually\" id=\"sk-estimator-id-6\" type=\"checkbox\" checked><label for=\"sk-estimator-id-6\" class=\"sk-toggleable__label sk-toggleable__label-arrow\">KNeighborsClassifier</label><div class=\"sk-toggleable__content\"><pre>KNeighborsClassifier()</pre></div></div></div></div></div>"
      ],
      "text/plain": [
       "KNeighborsClassifier()"
      ]
     },
     "execution_count": 61,
     "metadata": {},
     "output_type": "execute_result"
    }
   ],
   "source": [
    "knc = KNeighborsClassifier(n_neighbors = 5, metric = 'minkowski', p = 2)\n",
    "knc.fit(X_train, y_train)"
   ]
  },
  {
   "cell_type": "markdown",
   "id": "29af1fb8",
   "metadata": {},
   "source": [
    "#### Predict on train set"
   ]
  },
  {
   "cell_type": "code",
   "execution_count": 62,
   "id": "75bad9d1",
   "metadata": {},
   "outputs": [],
   "source": [
    "y_knc_train_pred = knc.predict(X_train)"
   ]
  },
  {
   "cell_type": "code",
   "execution_count": 63,
   "id": "2915a839",
   "metadata": {},
   "outputs": [
    {
     "data": {
      "text/plain": [
       "<Axes: >"
      ]
     },
     "execution_count": 63,
     "metadata": {},
     "output_type": "execute_result"
    },
    {
     "data": {
      "image/png": "[encoded data removed]",
      "text/plain": [
       "<Figure size 640x480 with 2 Axes>"
      ]
     },
     "metadata": {},
     "output_type": "display_data"
    }
   ],
   "source": [
    "sb.heatmap(confusion_matrix(y_train, y_knc_train_pred), annot = True, fmt=\"d\")"
   ]
  },
  {
   "cell_type": "code",
   "execution_count": 64,
   "id": "430af5e3",
   "metadata": {},
   "outputs": [
    {
     "name": "stdout",
     "output_type": "stream",
     "text": [
      "KNC Accuracy: 0.9861776925535315\n",
      "KNC Recall: 0.768976897689769\n",
      "KNC Precision: 0.9338677354709419\n",
      "KNC F2 score: 0.7971262401642148\n",
      "KNC ROC AUC Score 0.883103058416673\n"
     ]
    }
   ],
   "source": [
    "# Evaluation of model's performance on train set\n",
    "print(\"KNC Accuracy:\", accuracy_score(y_train, y_knc_train_pred))\n",
    "print(\"KNC Recall:\", recall_score(y_train, y_knc_train_pred))\n",
    "print(\"KNC Precision:\", precision_score(y_train, y_knc_train_pred))\n",
    "print(\"KNC F2 score:\", fbeta_score(y_train, y_knc_train_pred, average='binary', beta=2))\n",
    "print('KNC ROC AUC Score', roc_auc_score(y_train, y_knc_train_pred))"
   ]
  },
  {
   "cell_type": "markdown",
   "id": "546f774f",
   "metadata": {},
   "source": [
    "#### Predict on test set"
   ]
  },
  {
   "cell_type": "code",
   "execution_count": 65,
   "id": "4aaac66c",
   "metadata": {},
   "outputs": [],
   "source": [
    "y_knc_test_pred = knc.predict(X_test)"
   ]
  },
  {
   "cell_type": "code",
   "execution_count": 66,
   "id": "01efbacc",
   "metadata": {},
   "outputs": [
    {
     "data": {
      "text/plain": [
       "<Axes: >"
      ]
     },
     "execution_count": 66,
     "metadata": {},
     "output_type": "execute_result"
    },
    {
     "data": {
      "image/png": "[encoded data removed]",
      "text/plain": [
       "<Figure size 640x480 with 2 Axes>"
      ]
     },
     "metadata": {},
     "output_type": "display_data"
    }
   ],
   "source": [
    "sb.heatmap(confusion_matrix(y_test, y_knc_test_pred), annot = True, fmt=\"d\")"
   ]
  },
  {
   "cell_type": "code",
   "execution_count": 67,
   "id": "0c2e1390",
   "metadata": {},
   "outputs": [
    {
     "name": "stdout",
     "output_type": "stream",
     "text": [
      "KNC Accuracy: 0.9843400447427293\n",
      "KNC Recall: 0.7615384615384615\n",
      "KNC Precision: 0.9\n",
      "KNC F2 score: 0.7857142857142856\n",
      "KNC ROC AUC Score 0.8786140583554377\n"
     ]
    }
   ],
   "source": [
    "# Evaluation of model's performance on test set\n",
    "print(\"KNC Accuracy:\", accuracy_score(y_test, y_knc_test_pred))\n",
    "print(\"KNC Recall:\", recall_score(y_test, y_knc_test_pred))\n",
    "print(\"KNC Precision:\", precision_score(y_test, y_knc_test_pred))\n",
    "print(\"KNC F2 score:\", fbeta_score(y_test, y_knc_test_pred, average='binary', beta=2))\n",
    "print('KNC ROC AUC Score', roc_auc_score(y_test, y_knc_test_pred))"
   ]
  },
  {
   "cell_type": "markdown",
   "id": "162eaa95",
   "metadata": {},
   "source": [
    "## 6. Decision Tree"
   ]
  },
  {
   "cell_type": "code",
   "execution_count": 68,
   "id": "f046497b",
   "metadata": {},
   "outputs": [
    {
     "data": {
      "text/html": [
       "<style>#sk-container-id-7 {color: black;background-color: white;}#sk-container-id-7 pre{padding: 0;}#sk-container-id-7 div.sk-toggleable {background-color: white;}#sk-container-id-7 label.sk-toggleable__label {cursor: pointer;display: block;width: 100%;margin-bottom: 0;padding: 0.3em;box-sizing: border-box;text-align: center;}#sk-container-id-7 label.sk-toggleable__label-arrow:before {content: \"▸\";float: left;margin-right: 0.25em;color: #696969;}#sk-container-id-7 label.sk-toggleable__label-arrow:hover:before {color: black;}#sk-container-id-7 div.sk-estimator:hover label.sk-toggleable__label-arrow:before {color: black;}#sk-container-id-7 div.sk-toggleable__content {max-height: 0;max-width: 0;overflow: hidden;text-align: left;background-color: #f0f8ff;}#sk-container-id-7 div.sk-toggleable__content pre {margin: 0.2em;color: black;border-radius: 0.25em;background-color: #f0f8ff;}#sk-container-id-7 input.sk-toggleable__control:checked~div.sk-toggleable__content {max-height: 200px;max-width: 100%;overflow: auto;}#sk-container-id-7 input.sk-toggleable__control:checked~label.sk-toggleable__label-arrow:before {content: \"▾\";}#sk-container-id-7 div.sk-estimator input.sk-toggleable__control:checked~label.sk-toggleable__label {background-color: #d4ebff;}#sk-container-id-7 div.sk-label input.sk-toggleable__control:checked~label.sk-toggleable__label {background-color: #d4ebff;}#sk-container-id-7 input.sk-hidden--visually {border: 0;clip: rect(1px 1px 1px 1px);clip: rect(1px, 1px, 1px, 1px);height: 1px;margin: -1px;overflow: hidden;padding: 0;position: absolute;width: 1px;}#sk-container-id-7 div.sk-estimator {font-family: monospace;background-color: #f0f8ff;border: 1px dotted black;border-radius: 0.25em;box-sizing: border-box;margin-bottom: 0.5em;}#sk-container-id-7 div.sk-estimator:hover {background-color: #d4ebff;}#sk-container-id-7 div.sk-parallel-item::after {content: \"\";width: 100%;border-bottom: 1px solid gray;flex-grow: 1;}#sk-container-id-7 div.sk-label:hover label.sk-toggleable__label {background-color: #d4ebff;}#sk-container-id-7 div.sk-serial::before {content: \"\";position: absolute;border-left: 1px solid gray;box-sizing: border-box;top: 0;bottom: 0;left: 50%;z-index: 0;}#sk-container-id-7 div.sk-serial {display: flex;flex-direction: column;align-items: center;background-color: white;padding-right: 0.2em;padding-left: 0.2em;position: relative;}#sk-container-id-7 div.sk-item {position: relative;z-index: 1;}#sk-container-id-7 div.sk-parallel {display: flex;align-items: stretch;justify-content: center;background-color: white;position: relative;}#sk-container-id-7 div.sk-item::before, #sk-container-id-7 div.sk-parallel-item::before {content: \"\";position: absolute;border-left: 1px solid gray;box-sizing: border-box;top: 0;bottom: 0;left: 50%;z-index: -1;}#sk-container-id-7 div.sk-parallel-item {display: flex;flex-direction: column;z-index: 1;position: relative;background-color: white;}#sk-container-id-7 div.sk-parallel-item:first-child::after {align-self: flex-end;width: 50%;}#sk-container-id-7 div.sk-parallel-item:last-child::after {align-self: flex-start;width: 50%;}#sk-container-id-7 div.sk-parallel-item:only-child::after {width: 0;}#sk-container-id-7 div.sk-dashed-wrapped {border: 1px dashed gray;margin: 0 0.4em 0.5em 0.4em;box-sizing: border-box;padding-bottom: 0.4em;background-color: white;}#sk-container-id-7 div.sk-label label {font-family: monospace;font-weight: bold;display: inline-block;line-height: 1.2em;}#sk-container-id-7 div.sk-label-container {text-align: center;}#sk-container-id-7 div.sk-container {/* jupyter's `normalize.less` sets `[hidden] { display: none; }` but bootstrap.min.css set `[hidden] { display: none !important; }` so we also need the `!important` here to be able to override the default hidden behavior on the sphinx rendered scikit-learn.org. See: https://github.com/scikit-learn/scikit-learn/issues/21755 */display: inline-block !important;position: relative;}#sk-container-id-7 div.sk-text-repr-fallback {display: none;}</style><div id=\"sk-container-id-7\" class=\"sk-top-container\"><div class=\"sk-text-repr-fallback\"><pre>DecisionTreeClassifier(criterion=&#x27;entropy&#x27;, random_state=0)</pre><b>In a Jupyter environment, please rerun this cell to show the HTML representation or trust the notebook. <br />On GitHub, the HTML representation is unable to render, please try loading this page with nbviewer.org.</b></div><div class=\"sk-container\" hidden><div class=\"sk-item\"><div class=\"sk-estimator sk-toggleable\"><input class=\"sk-toggleable__control sk-hidden--visually\" id=\"sk-estimator-id-7\" type=\"checkbox\" checked><label for=\"sk-estimator-id-7\" class=\"sk-toggleable__label sk-toggleable__label-arrow\">DecisionTreeClassifier</label><div class=\"sk-toggleable__content\"><pre>DecisionTreeClassifier(criterion=&#x27;entropy&#x27;, random_state=0)</pre></div></div></div></div></div>"
      ],
      "text/plain": [
       "DecisionTreeClassifier(criterion='entropy', random_state=0)"
      ]
     },
     "execution_count": 68,
     "metadata": {},
     "output_type": "execute_result"
    }
   ],
   "source": [
    "from sklearn.tree import DecisionTreeClassifier\n",
    "dectree = DecisionTreeClassifier(criterion = 'entropy', random_state = 0)\n",
    "dectree.fit(X_train, y_train)"
   ]
  },
  {
   "cell_type": "markdown",
   "id": "626ba075",
   "metadata": {},
   "source": [
    "#### Predict on Train set"
   ]
  },
  {
   "cell_type": "code",
   "execution_count": 69,
   "id": "50361459",
   "metadata": {},
   "outputs": [],
   "source": [
    "y_tree_train_pred = dectree.predict(X_train)"
   ]
  },
  {
   "cell_type": "code",
   "execution_count": 70,
   "id": "91263d45",
   "metadata": {},
   "outputs": [
    {
     "data": {
      "text/plain": [
       "<Axes: >"
      ]
     },
     "execution_count": 70,
     "metadata": {},
     "output_type": "execute_result"
    },
    {
     "data": {
      "image/png": "[encoded data removed]",
      "text/plain": [
       "<Figure size 640x480 with 2 Axes>"
      ]
     },
     "metadata": {},
     "output_type": "display_data"
    }
   ],
   "source": [
    "sb.heatmap(confusion_matrix(y_train, y_tree_train_pred), annot = True, fmt=\"d\")"
   ]
  },
  {
   "cell_type": "code",
   "execution_count": 71,
   "id": "dbf6aed2",
   "metadata": {},
   "outputs": [
    {
     "name": "stdout",
     "output_type": "stream",
     "text": [
      "Decision Tree Accuracy: 1.0\n",
      "Decision Tree Recall: 1.0\n",
      "Decision Tree Precision: 1.0\n",
      "Decision Tree F2 score: 1.0\n",
      "Decision Tree ROC AUC Score 1.0\n"
     ]
    }
   ],
   "source": [
    "# Evaluation of model's performance on train set\n",
    "print(\"Decision Tree Accuracy:\", accuracy_score(y_train, y_tree_train_pred))\n",
    "print(\"Decision Tree Recall:\", recall_score(y_train, y_tree_train_pred))\n",
    "print(\"Decision Tree Precision:\", precision_score(y_train, y_tree_train_pred))\n",
    "print(\"Decision Tree F2 score:\", fbeta_score(y_train, y_tree_train_pred, average='binary', beta=2))\n",
    "print('Decision Tree ROC AUC Score', roc_auc_score(y_train, y_tree_train_pred))"
   ]
  },
  {
   "cell_type": "markdown",
   "id": "675fb34d",
   "metadata": {},
   "source": [
    "Risk of overfitting"
   ]
  },
  {
   "cell_type": "markdown",
   "id": "1b629ab6",
   "metadata": {},
   "source": [
    "#### Predict on test set"
   ]
  },
  {
   "cell_type": "code",
   "execution_count": 72,
   "id": "951c0fc3",
   "metadata": {},
   "outputs": [],
   "source": [
    "y_tree_test_pred = dectree.predict(X_test)"
   ]
  },
  {
   "cell_type": "code",
   "execution_count": 73,
   "id": "20e57f86",
   "metadata": {},
   "outputs": [
    {
     "data": {
      "text/plain": [
       "<Axes: >"
      ]
     },
     "execution_count": 73,
     "metadata": {},
     "output_type": "execute_result"
    },
    {
     "data": {
      "image/png": "[encoded data removed]",
      "text/plain": [
       "<Figure size 640x480 with 2 Axes>"
      ]
     },
     "metadata": {},
     "output_type": "display_data"
    }
   ],
   "source": [
    "sb.heatmap(confusion_matrix(y_test, y_tree_test_pred), annot = True, fmt=\"d\")"
   ]
  },
  {
   "cell_type": "code",
   "execution_count": 74,
   "id": "47f6c0a0",
   "metadata": {},
   "outputs": [
    {
     "name": "stdout",
     "output_type": "stream",
     "text": [
      "Decision Tree Accuracy: 0.9807979120059657\n",
      "Decision Tree Recall: 0.823076923076923\n",
      "Decision Tree Precision: 0.7896678966789668\n",
      "Decision Tree F2 score: 0.8161708619374523\n",
      "Decision Tree ROC AUC Score 0.9059546057390885\n"
     ]
    }
   ],
   "source": [
    "# Evaluation of model's performance on test set\n",
    "print(\"Decision Tree Accuracy:\", accuracy_score(y_test, y_tree_test_pred))\n",
    "print(\"Decision Tree Recall:\", recall_score(y_test, y_tree_test_pred))\n",
    "print(\"Decision Tree Precision:\", precision_score(y_test, y_tree_test_pred))\n",
    "print(\"Decision Tree F2 score:\", fbeta_score(y_test, y_tree_test_pred, average='binary', beta=2))\n",
    "print('Decision Tree ROC AUC Score', roc_auc_score(y_test, y_tree_test_pred))"
   ]
  },
  {
   "cell_type": "markdown",
   "id": "c2f13dca",
   "metadata": {},
   "source": [
    "## Evaluation 6 Models"
   ]
  },
  {
   "cell_type": "code",
   "execution_count": 75,
   "id": "0b695d57",
   "metadata": {},
   "outputs": [],
   "source": [
    "roc_score = {}\n",
    "f2_score = {}\n",
    "rc_score = {}\n",
    "pr_score = {}"
   ]
  },
  {
   "cell_type": "code",
   "execution_count": 76,
   "id": "becb8a23",
   "metadata": {},
   "outputs": [],
   "source": [
    "roc_score['Logistic Regression']= roc_auc_score(y_test, y_test_logreg_pred)\n",
    "roc_score['Random Forest']= roc_auc_score(y_test, y_fr_test_pred)\n",
    "roc_score['SVM']= roc_auc_score(y_test, y_svm_test_pred)\n",
    "roc_score['XGBoost']= roc_auc_score(y_test, y_xgb_test_pred)\n",
    "roc_score['K-Neighbour Classifier']= roc_auc_score(y_test, y_knc_test_pred)\n",
    "roc_score['Decision Tree']= roc_auc_score(y_test, y_tree_test_pred)"
   ]
  },
  {
   "cell_type": "code",
   "execution_count": 77,
   "id": "c5d4cd3c",
   "metadata": {},
   "outputs": [],
   "source": [
    "f2_score['Logistic Regression']= fbeta_score(y_test, y_test_logreg_pred, average='binary', beta=2)\n",
    "f2_score['Random Forest']= fbeta_score(y_test, y_fr_test_pred, average='binary', beta=2)\n",
    "f2_score['SVM']= fbeta_score(y_test, y_svm_test_pred, average='binary', beta=2)\n",
    "f2_score['XGBoost']= fbeta_score(y_test, y_xgb_test_pred, average='binary', beta=2)\n",
    "f2_score['K-Neighbour Classifier']= fbeta_score(y_test, y_knc_test_pred, average='binary', beta=2)\n",
    "f2_score['Decision Tree']= fbeta_score(y_test, y_tree_test_pred, average='binary', beta=2)"
   ]
  },
  {
   "cell_type": "code",
   "execution_count": 78,
   "id": "f47ca5ec",
   "metadata": {},
   "outputs": [],
   "source": [
    "rc_score['Logistic Regression']= recall_score(y_test, y_test_logreg_pred)\n",
    "rc_score['Random Forest']= recall_score(y_test, y_fr_test_pred)\n",
    "rc_score['SVM']= recall_score(y_test, y_svm_test_pred)\n",
    "rc_score['XGBoost']= recall_score(y_test, y_xgb_test_pred)\n",
    "rc_score['K-Neighbour Classifier']= recall_score(y_test, y_knc_test_pred)\n",
    "rc_score['Decision Tree']= recall_score(y_test, y_tree_test_pred)"
   ]
  },
  {
   "cell_type": "code",
   "execution_count": 79,
   "id": "aa712ed7",
   "metadata": {},
   "outputs": [],
   "source": [
    "pr_score['Logistic Regression']= precision_score(y_test, y_test_logreg_pred)\n",
    "pr_score['Random Forest']= precision_score(y_test, y_fr_test_pred)\n",
    "pr_score['SVM']= precision_score(y_test, y_svm_test_pred)\n",
    "pr_score['XGBoost']= precision_score(y_test, y_xgb_test_pred)\n",
    "pr_score['K-Neighbour Classifier']= precision_score(y_test, y_knc_test_pred)\n",
    "pr_score['Decision Tree']= precision_score(y_test, y_tree_test_pred)"
   ]
  },
  {
   "cell_type": "code",
   "execution_count": 80,
   "id": "93a201ea",
   "metadata": {},
   "outputs": [
    {
     "data": {
      "image/png": "[encoded data removed]",
      "text/plain": [
       "<Figure size 800x400 with 1 Axes>"
      ]
     },
     "metadata": {},
     "output_type": "display_data"
    }
   ],
   "source": [
    "#Plot ROC AUC Score and F2 Score\n",
    "plt.figure(figsize=(8, 4))\n",
    "plt.plot(list(roc_score.values()));\n",
    "plt.plot(list(f2_score.values()));\n",
    "plt.xticks(ticks=range(0, len(roc_score)), labels=roc_score.keys(), rotation=90);\n",
    "plt.title('Scores of Different Models');\n",
    "plt.xlabel('Classifier');\n",
    "plt.ylabel('Score');\n",
    "plt.legend(['ROC AUC Score', 'F2 Score'], fontsize='medium');"
   ]
  },
  {
   "cell_type": "code",
   "execution_count": 81,
   "id": "07c79eb3",
   "metadata": {},
   "outputs": [
    {
     "data": {
      "image/png": "[encoded data removed]",
      "text/plain": [
       "<Figure size 800x400 with 1 Axes>"
      ]
     },
     "metadata": {},
     "output_type": "display_data"
    }
   ],
   "source": [
    "#Plot Recall and Precision Score\n",
    "plt.figure(figsize=(8, 4))\n",
    "plt.plot(list(rc_score.values()));\n",
    "plt.plot(list(pr_score.values()));\n",
    "plt.xticks(ticks=range(0, len(rc_score)), labels=roc_score.keys(), rotation=90);\n",
    "plt.title('Scores of Different Models');\n",
    "plt.xlabel('Classifier');\n",
    "plt.ylabel('Score');\n",
    "plt.legend(['Recall Score', 'Precision Score'], fontsize='medium');\n"
   ]
  },
  {
   "cell_type": "markdown",
   "id": "e19d7010",
   "metadata": {},
   "source": [
    "# Conclusion"
   ]
  },
  {
   "cell_type": "markdown",
   "id": "8f512ce9",
   "metadata": {},
   "source": [
    "Since want to use minimize False Negative (incorrectly predict fraudulent jobs as non-fraudulent), we pay more attention to Recall and F2 score. When there are more than 1 model with approximately the same recall and F2 score, we take other evaluation metrics (accuracy, prediction, F1 score, AUC ROC score) in to consideration."
   ]
  },
  {
   "cell_type": "markdown",
   "id": "9a620325",
   "metadata": {},
   "source": [
    "We can see that **Logistic Regression model** has the best overall performance on the test set among all the models."
   ]
  },
  {
   "cell_type": "markdown",
   "id": "5b67200b",
   "metadata": {},
   "source": [
    "# References"
   ]
  },
  {
   "cell_type": "markdown",
   "id": "3a015dfc",
   "metadata": {},
   "source": [
    "https://analyticsindiamag.com/classifying-fake-and-real-job-advertisements-using-machine-learning/ <br>\n",
    "https://www.kaggle.com/code/shivamburnwal/nlp-98-acc-eda-with-model-using-spacy-pipeline <br>\n",
    "https://machinelearningmastery.com/tour-of-evaluation-metrics-for-imbalanced-classification/ <br>\n",
    "https://medium.com/analytics-vidhya/applying-text-classification-using-logistic-regression-a-comparison-between-bow-and-tf-idf-1f1ed1b83640 <br>\n",
    "https://docs.streamlit.io/library/cheatsheet <br>\n",
    "https://stats.stackexchange.com/questions/251871/vectorization-of-data-before-splitting-in-to-test-and-train-with-neural-network <br>\n",
    "https://towardsdatascience.com/boosting-techniques-in-python-predicting-hotel-cancellations-62b7a76ffa6c <br>\n",
    "https://scikit-learn.org/stable/modules/generated/sklearn.metrics.fbeta_score.html <br>\n",
    "https://machinelearningmastery.com/fbeta-measure-for-machine-learning/ <br>\n",
    "https://machinelearningmastery.com/random-oversampling-and-undersampling-for-imbalanced-classification/ <br>\n",
    "https://machinelearningmastery.com/combine-oversampling-and-undersampling-for-imbalanced-classification/#:~:text=Oversampling%20methods%20duplicate%20or%20create,of%20methods%20are%20used%20together <br>\n",
    "https://towardsdatascience.com/understanding-auc-roc-curve-68b2303cc9c5#:~:text=the%20multiclass%20model%3F-,What%20is%20the%20AUC%20%2D%20ROC%20Curve%3F,capable%20of%20distinguishing%20between%20classes. <br>\n",
    "https://scikit-learn.org/stable/model_persistence.html <br>"
   ]
  }
 ],
 "metadata": {
  "kernelspec": {
   "display_name": "Python 3 (ipykernel)",
   "language": "python",
   "name": "python3"
  },
  "language_info": {
   "codemirror_mode": {
    "name": "ipython",
    "version": 3
   },
   "file_extension": ".py",
   "mimetype": "text/x-python",
   "name": "python",
   "nbconvert_exporter": "python",
   "pygments_lexer": "ipython3",
   "version": "3.11.5"
  }
 },
 "nbformat": 4,
 "nbformat_minor": 5
}
